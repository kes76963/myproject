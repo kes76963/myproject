{
 "cells": [
  {
   "cell_type": "code",
   "execution_count": 2,
   "source": [
    "from collections import namedtuple\r\n",
    "from gensim.models import doc2vec\r\n",
    "from konlpy.tag import Twitter\r\n",
    "import multiprocessing\r\n",
    "from pprint import pprint\r\n",
    "from gensim.models import Doc2Vec\r\n",
    "from sklearn.linear_model import LogisticRegression\r\n",
    "import numpy\r\n",
    "import pickle\r\n",
    "\r\n",
    "\r\n",
    "twitter = Twitter()\r\n",
    "\r\n",
    "def read_data(filename):\r\n",
    "    with open(filename, 'r',  encoding = \"utf-8\") as f:\r\n",
    "        data = [line.split('\\t') for line in f.read().splitlines()]\r\n",
    "    return data\r\n",
    "\r\n",
    "def tokenize(doc):\r\n",
    "  # norm, stem은 optional\r\n",
    "  return ['/'.join(t) for t in twitter.pos(doc, norm=True, stem=True)]"
   ],
   "outputs": [],
   "metadata": {}
  },
  {
   "cell_type": "code",
   "execution_count": null,
   "source": [
    "# 테스트 데이터를 읽기\r\n",
    "train_data = read_data('data/ratings_train.txt')\r\n",
    "test_data = read_data('data/ratings_test.txt')\r\n",
    "\r\n",
    "# 형태소 분류\r\n",
    "train_docs = [(tokenize(row[1]), row[2]) for row in train_data[1:]]\r\n",
    "test_docs = [(tokenize(row[1]), row[2]) for row in test_data[1:]]\r\n",
    "\r\n",
    "# doc2vec 에서 필요한 데이터 형식으로 변경\r\n",
    "TaggedDocument = namedtuple('TaggedDocument', 'words tags')\r\n",
    "tagged_train_docs = [TaggedDocument(d, [c]) for d, c in train_docs]\r\n",
    "tagged_test_docs = [TaggedDocument(d, [c]) for d, c in test_docs]\r\n"
   ],
   "outputs": [],
   "metadata": {}
  },
  {
   "cell_type": "code",
   "execution_count": null,
   "source": [
    "# load train data\r\n",
    "doc_vectorizer = Doc2Vec.load('model/doc2vec.model')\r\n",
    "\r\n",
    "# 분류를 위한 피쳐 생성\r\n",
    "train_x = [doc_vectorizer.infer_vector(doc.words) for doc in tagged_train_docs]\r\n",
    "train_y = [doc.tags[0] for doc in tagged_train_docs]\r\n",
    "test_x = [doc_vectorizer.infer_vector(doc.words) for doc in tagged_test_docs]\r\n",
    "test_y = [doc.tags[0] for doc in tagged_test_docs]\r\n"
   ],
   "outputs": [],
   "metadata": {}
  },
  {
   "cell_type": "code",
   "execution_count": null,
   "source": [
    "\r\n",
    "#classifier = LogisticRegression(C=1.0, class_weight=None, dual=False, fit_intercept=True, intercept_scaling=1, penalty='l2', random_state=None, tol=0.0001)\r\n",
    "classifier = LogisticRegression(random_state=1234)\r\n",
    "classifier.fit(train_x, train_y)\r\n",
    "\r\n",
    "# 테스트 socre 확인\r\n",
    "print( classifier.score(test_x, test_y) )"
   ],
   "outputs": [],
   "metadata": {}
  }
 ],
 "metadata": {
  "orig_nbformat": 4,
  "language_info": {
   "name": "python",
   "version": "3.7.10",
   "mimetype": "text/x-python",
   "codemirror_mode": {
    "name": "ipython",
    "version": 3
   },
   "pygments_lexer": "ipython3",
   "nbconvert_exporter": "python",
   "file_extension": ".py"
  },
  "kernelspec": {
   "name": "python3",
   "display_name": "Python 3.7.10 64-bit ('exam_cv2': conda)"
  },
  "interpreter": {
   "hash": "19a2027c367e4a8fbf50703f7b521df71edff403eb9eba2200ef5f1febf03a5b"
  }
 },
 "nbformat": 4,
 "nbformat_minor": 2
}