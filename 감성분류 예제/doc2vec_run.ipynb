{
 "cells": [
  {
   "cell_type": "code",
   "execution_count": 1,
   "source": [
    "from collections import namedtuple\r\n",
    "from gensim.models import doc2vec\r\n",
    "from konlpy.tag import Twitter\r\n",
    "import multiprocessing\r\n",
    "from pprint import pprint\r\n",
    "from gensim.models import Doc2Vec\r\n",
    "from sklearn.linear_model import LogisticRegression\r\n",
    "import numpy\r\n",
    "import pickle\r\n",
    "\r\n",
    "twitter = Twitter()\r\n",
    "\r\n",
    "def read_data(filename):\r\n",
    "    with open(filename, 'r',  encoding = \"utf-8\") as f:\r\n",
    "        data = [line.split('\\t') for line in f.read().splitlines()]\r\n",
    "    return data\r\n",
    "\r\n",
    "def tokenize(doc):\r\n",
    "  # norm, stem은 optional\r\n",
    "  return ['/'.join(t) for t in twitter.pos(doc, norm=True, stem=True)]"
   ],
   "outputs": [
    {
     "output_type": "stream",
     "name": "stderr",
     "text": [
      "C:\\Users\\kim\\.conda\\envs\\exam_cv2\\lib\\site-packages\\gensim\\similarities\\__init__.py:15: UserWarning: The gensim.similarities.levenshtein submodule is disabled, because the optional Levenshtein package <https://pypi.org/project/python-Levenshtein/> is unavailable. Install Levenhstein (e.g. `pip install python-Levenshtein`) to suppress this warning.\n",
      "  warnings.warn(msg)\n",
      "C:\\Users\\kim\\.conda\\envs\\exam_cv2\\lib\\site-packages\\konlpy\\tag\\_okt.py:16: UserWarning: \"Twitter\" has changed to \"Okt\" since KoNLPy v0.4.5.\n",
      "  warn('\"Twitter\" has changed to \"Okt\" since KoNLPy v0.4.5.')\n"
     ]
    }
   ],
   "metadata": {}
  },
  {
   "cell_type": "code",
   "execution_count": 4,
   "source": [
    "# 실제 구동 데이터를 읽기\r\n",
    "run_data = read_data('data/ratings_run.txt')\r\n",
    "\r\n",
    "# 형태소 분류\r\n",
    "run_docs = [(tokenize(row[1]), row[2]) for row in run_data[1:]]\r\n",
    "\r\n",
    "# doc2vec 에서 필요한 데이터 형식으로 변경\r\n",
    "TaggedDocument = namedtuple('TaggedDocument', 'words tags')\r\n",
    "tagged_run_docs = [TaggedDocument(d, [c]) for d, c in run_docs]\r\n",
    "\r\n"
   ],
   "outputs": [],
   "metadata": {}
  },
  {
   "cell_type": "code",
   "execution_count": null,
   "source": [
    "# load train data\r\n",
    "doc_vectorizer = Doc2Vec.load('model/doc2vec.model')\r\n",
    "\r\n",
    "# 분류를 위한 피쳐 생성\r\n",
    "run_x = [doc_vectorizer.infer_vector(doc.words) for doc in tagged_run_docs]\r\n",
    "run_y = [doc.tags[0] for doc in tagged_run_docs]\r\n",
    "\r\n",
    "# load the model from disk\r\n",
    "filename = 'model/finalized_model.sav'\r\n",
    "\r\n",
    "# 실제 분류 확인\r\n",
    "loaded_model = pickle.load(open(filename, 'rb'))\r\n",
    "print(loaded_model.predict(run_x[0].reshape(1, -1)))\r\n",
    "print(loaded_model.predict(run_x[1].reshape(1, -1)))"
   ],
   "outputs": [],
   "metadata": {}
  }
 ],
 "metadata": {
  "orig_nbformat": 4,
  "language_info": {
   "name": "python",
   "version": "3.7.10",
   "mimetype": "text/x-python",
   "codemirror_mode": {
    "name": "ipython",
    "version": 3
   },
   "pygments_lexer": "ipython3",
   "nbconvert_exporter": "python",
   "file_extension": ".py"
  },
  "kernelspec": {
   "name": "python3",
   "display_name": "Python 3.7.10 64-bit ('exam_cv2': conda)"
  },
  "interpreter": {
   "hash": "19a2027c367e4a8fbf50703f7b521df71edff403eb9eba2200ef5f1febf03a5b"
  }
 },
 "nbformat": 4,
 "nbformat_minor": 2
}