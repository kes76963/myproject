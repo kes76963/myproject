{
 "cells": [
  {
   "cell_type": "code",
   "execution_count": 3,
   "source": [
    "from collections import namedtuple\r\n",
    "from gensim.models import doc2vec\r\n",
    "from konlpy.tag import Twitter\r\n",
    "import multiprocessing\r\n",
    "from pprint import pprint\r\n",
    "\r\n",
    "twitter = Twitter()\r\n",
    "\r\n",
    "def read_data(filename):\r\n",
    "    with open(filename, 'r', encoding = \"utf-8\") as f:\r\n",
    "        data = [line.split('\\t') for line in f.read().splitlines()]\r\n",
    "    return data\r\n",
    "\r\n",
    "def tokenize(doc):\r\n",
    "  # norm, stem은 optional\r\n",
    "  return ['/'.join(t) for t in twitter.pos(doc, norm=True, stem=True)]"
   ],
   "outputs": [
    {
     "output_type": "stream",
     "name": "stderr",
     "text": [
      "C:\\Users\\kim\\.conda\\envs\\exam_cv2\\lib\\site-packages\\konlpy\\tag\\_okt.py:16: UserWarning: \"Twitter\" has changed to \"Okt\" since KoNLPy v0.4.5.\n",
      "  warn('\"Twitter\" has changed to \"Okt\" since KoNLPy v0.4.5.')\n"
     ]
    }
   ],
   "metadata": {}
  },
  {
   "cell_type": "code",
   "execution_count": 5,
   "source": [
    "#doc2vec parameters\r\n",
    "cores = multiprocessing.cpu_count()\r\n",
    "\r\n",
    "vector_size = 300\r\n",
    "window_size = 15\r\n",
    "word_min_count = 2\r\n",
    "sampling_threshold = 1e-5\r\n",
    "negative_size = 5\r\n",
    "train_epoch = 100\r\n",
    "dm = 1\r\n",
    "worker_count = cores\r\n",
    "\r\n",
    "\r\n",
    "# 트래이닝 데이터 읽기\r\n",
    "train_data = read_data('data/ratings_train.txt')\r\n",
    "\r\n",
    "# 형태소 분류\r\n",
    "train_docs = [(tokenize(row[1]), row[2]) for row in train_data[1:]]\r\n",
    "\r\n",
    "# doc2vec 에서 필요한 데이터 형식으로 변경\r\n",
    "TaggedDocument = namedtuple('TaggedDocument', 'words tags')\r\n",
    "tagged_train_docs = [TaggedDocument(d, [c]) for d, c in train_docs]\r\n",
    "\r\n"
   ],
   "outputs": [],
   "metadata": {}
  },
  {
   "cell_type": "code",
   "execution_count": 16,
   "source": [
    "# 사전 구축\r\n",
    "doc_vectorizer = doc2vec.Doc2Vec(vector_size=300, alpha=0.025, min_alpha=0.025, seed=1234)\r\n",
    "doc_vectorizer.build_vocab(tagged_train_docs)\r\n"
   ],
   "outputs": [],
   "metadata": {}
  },
  {
   "cell_type": "code",
   "execution_count": 19,
   "source": [
    "doc_vectorizer = doc2vec.Doc2Vec(vector_size=300,\r\n",
    "    dm=0,            # PV-DBOW / default 1\r\n",
    "    dbow_words=1,    # w2v simultaneous with DBOW d2v / default 0\r\n",
    "    window=10,        # distance between the predicted word and context words\r\n",
    "    alpha=0.025,     # learning-rate\r\n",
    "    seed=1234,\r\n",
    "    min_count=5,    # ignore with freq lower\r\n",
    "    min_alpha=0.025, # min learning-rate\r\n",
    "    workers=4,   # multi cpu\r\n",
    "    hs = 1,          # hierar chical softmax / default 0\r\n",
    "    negative = 10   # negative sampling / default 5\r\n",
    ")\r\n",
    "doc_vectorizer.build_vocab(tagged_train_docs)"
   ],
   "outputs": [],
   "metadata": {}
  },
  {
   "cell_type": "code",
   "execution_count": null,
   "source": [
    "# Train document vectors!\r\n",
    "for epoch in range(10):\r\n",
    "    doc_vectorizer.train(tagged_train_docs, total_examples=doc_vectorizer.corpus_count, epochs=doc_vectorizer.epochs)\r\n",
    "    # doc_vectorizer.train(total_examples=doc_vectorizer.corpus_count)\r\n",
    "    doc_vectorizer.alpha -= 0.002  # decrease the learning rate\r\n",
    "    doc_vectorizer.min_alpha = doc_vectorizer.alpha  # fix the learning rate, no decay\r\n",
    "\r\n",
    "#To save\r\n",
    "doc_vectorizer.save('model/doc2vec2.model')\r\n",
    "\r\n",
    "print(doc_vectorizer.most_similar('로맨스/Noun'))"
   ],
   "outputs": [],
   "metadata": {}
  }
 ],
 "metadata": {
  "orig_nbformat": 4,
  "language_info": {
   "name": "python",
   "version": "3.7.10",
   "mimetype": "text/x-python",
   "codemirror_mode": {
    "name": "ipython",
    "version": 3
   },
   "pygments_lexer": "ipython3",
   "nbconvert_exporter": "python",
   "file_extension": ".py"
  },
  "kernelspec": {
   "name": "python3",
   "display_name": "Python 3.7.10 64-bit ('exam_cv2': conda)"
  },
  "interpreter": {
   "hash": "19a2027c367e4a8fbf50703f7b521df71edff403eb9eba2200ef5f1febf03a5b"
  }
 },
 "nbformat": 4,
 "nbformat_minor": 2
}