{
 "cells": [
  {
   "cell_type": "markdown",
   "metadata": {},
   "source": [
    "크롤링 사람들이 무엇에 관심을 가질까?\n",
    "\n",
    "크롤링1 => 셀레니움(페이지 다운) 채널 썸네일, 링크 수집\n",
    "크롤링2 => bs4 링크 들어가서 제목, 조회수, 댓글 개수 / 셀레니움 댓글 일정 수준 이상이면 긁어오기 \n",
    "\n",
    "제목 / 조회수 / 썸네일 (6개월ㅅㅅ)\n",
    "- 같은 주제인데 조회수 차이나는 이유\n",
    "- 유튜브 알고리즘이 더 밀어주는 주제(당시 상황에 기인하는지?)\n",
    "- 꾸준히 성장하는 유튜버, 퐁당퐁당하는 유튜버, 일정 조회수 이상 유지하는 유튜버 차이\n",
    "\n",
    "댓글 \n",
    "- 주로 시청자가 원하는게 뭘까? 요약 또는 키워드 중심으로 / 긍정 or 부정적인지 \n",
    "- 이름으로 성별 파악 데이터셋 완료\n",
    "- 댓글 닉네임 / 연령, 성별 파악 가능할까? (이름으로 연령과 성별 코드 생각해보기 / 닉네임의 특성파악 )\n",
    "\n",
    "직접\n",
    "영상 시청 : 어떤 메리트가 있는지, 어떻게 해서 8분을 채우는지, 틈새시장 전략은 무엇인지\n",
    "폭발적으로 영상이 터지기 시작한 시점, 사건, 계기 분석 (꾸준히 or 한 번에)"
   ]
  },
  {
   "cell_type": "code",
   "execution_count": 2,
   "metadata": {},
   "outputs": [],
   "source": [
    "# 옵션들\n",
    "from selenium import webdriver\n",
    "# from selenium.webdriver.chrome.options import Options\n",
    "# from selenium.webdriver.common.keys import Keys\n",
    "# from selenium.webdriver.common.action_chains import ActionChains\n",
    "\n",
    "options = webdriver.ChromeOptions() # 크롬 옵션 객체 생성\n",
    "user_agent = \"Mozilla/5.0 (Windows NT 4.0; WOW64) AppleWebKit/537.36 (KHTML, like Gecko) Chrome/37.0.2049.0 Safari/537.36 \"\n",
    "options.add_argument('user-agent=' + user_agent)\n",
    "#options.add_argument('headless') # headless 모드 설정\n",
    "options.add_argument(\"window-size=1920x1080\") # 화면크기(전체화면)\n",
    "options.add_argument(\"disable-gpu\") \n",
    "options.add_argument(\"disable-infobars\")\n",
    "options.add_argument(\"--disable-extensions\")\n",
    "options.add_argument(\"--mute-audio\") #mute\n",
    "options.add_argument(\"lang=ko_KR\") # 가짜 플러그인 탑재\n",
    "options.add_argument('--blink-settings=imagesEnabled=false') #브라우저에서 이미지 로딩을 하지 않습니다.\n",
    "options.add_argument('incognito') #시크릿 모드의 브라우저가 실행됩니다.\n",
    "options.add_argument(\"--start-maximized\")\n",
    "#options.add_argument('--kiosk') f11\n",
    "\n",
    "\n",
    "# 속도 향상을 위한 옵션 해제\n",
    "prefs = {\n",
    "  \"translate_whitelists\": {\"en\":\"ko\"},\n",
    "  \"translate\":{\"enabled\":\"true\"}\n",
    "}\n",
    "options.add_experimental_option(\"prefs\", prefs) # 한국어로 자동 번역\n",
    "prefs = {'profile.default_content_setting_values': {'cookies' : 2, 'images': 2, 'plugins' : 2, 'popups': 2, 'geolocation': 2, 'notifications' : 2, 'auto_select_certificate': 2, 'fullscreen' : 2, 'mouselock' : 2, 'mixed_script': 2, 'media_stream' : 2, 'media_stream_mic' : 2, 'media_stream_camera': 2, 'protocol_handlers' : 2, 'ppapi_broker' : 2, 'automatic_downloads': 2, 'midi_sysex' : 2, 'push_messaging' : 2, 'ssl_cert_decisions': 2, 'metro_switch_to_desktop' : 2, 'protected_media_identifier': 2, 'app_banner': 2, 'site_engagement' : 2, 'durable_storage' : 2}}   \n",
    "options.add_experimental_option('prefs', prefs)"
   ]
  },
  {
   "cell_type": "code",
   "execution_count": 5,
   "metadata": {},
   "outputs": [
    {
     "ename": "NameError",
     "evalue": "name 'lend' is not defined",
     "output_type": "error",
     "traceback": [
      "\u001b[1;31m---------------------------------------------------------------------------\u001b[0m",
      "\u001b[1;31mNameError\u001b[0m                                 Traceback (most recent call last)",
      "\u001b[1;32mC:\\Users\\Public\\Documents\\ESTsoft\\CreatorTemp/ipykernel_12108/3510771516.py\u001b[0m in \u001b[0;36m<module>\u001b[1;34m\u001b[0m\n\u001b[0;32m     31\u001b[0m     \u001b[0mvideo_url\u001b[0m\u001b[1;33m.\u001b[0m\u001b[0mappend\u001b[0m\u001b[1;33m(\u001b[0m\u001b[0murl\u001b[0m\u001b[1;33m)\u001b[0m\u001b[1;33m\u001b[0m\u001b[1;33m\u001b[0m\u001b[0m\n\u001b[0;32m     32\u001b[0m \u001b[1;33m\u001b[0m\u001b[0m\n\u001b[1;32m---> 33\u001b[1;33m \u001b[0mprint\u001b[0m\u001b[1;33m(\u001b[0m\u001b[0mlend\u001b[0m\u001b[1;33m(\u001b[0m\u001b[0mvideo_url\u001b[0m\u001b[1;33m)\u001b[0m\u001b[1;33m)\u001b[0m\u001b[1;33m\u001b[0m\u001b[1;33m\u001b[0m\u001b[0m\n\u001b[0m",
      "\u001b[1;31mNameError\u001b[0m: name 'lend' is not defined"
     ]
    }
   ],
   "source": [
    "from bs4 import BeautifulSoup\n",
    "from selenium import webdriver\n",
    "from selenium.webdriver.common.keys import Keys\n",
    "import time\n",
    "\n",
    "driver = webdriver.Chrome('C:/work/python/Asia_GAN/myproject/youtube/chromedriver.exe', options= options)\n",
    "url = \"https://www.youtube.com/c/NetflixKorea/videos\"\n",
    "driver.get(url)\n",
    "\n",
    "# 스크롤 다운\n",
    "time.sleep(2)\n",
    "endk = 6\n",
    "while endk:\n",
    "    driver.find_element_by_tag_name('body').send_keys(Keys.END)\n",
    "    time.sleep(0.3)\n",
    "    endk -= 1\n",
    "\n",
    "# bs4 실행    \n",
    "html = driver.page_source\n",
    "soup = BeautifulSoup(html, 'lxml')\n",
    "\n",
    "video_list0 = soup.find('div', {'id': 'contents'})\n",
    "video_list2 = video_list0.find_all('ytd-grid-video-renderer',{'class':'style-scope ytd-grid-renderer'})\n",
    "\n",
    "base_url = 'http://www.youtube.com'\n",
    "video_url = []\n",
    "\n",
    "# 반복문을 실행시켜 비디오의 주소를 video_url에 넣는다.\n",
    "for i in range(len(video_list2)):\n",
    "    url = base_url+video_list2[i].find('a',{'id':'thumbnail'})['href']\n",
    "    video_url.append(url)\n",
    "    \n",
    "print(lend(video_url))"
   ]
  },
  {
   "cell_type": "code",
   "execution_count": 2,
   "metadata": {},
   "outputs": [
    {
     "name": "stdout",
     "output_type": "stream",
     "text": [
      "t\n"
     ]
    }
   ],
   "source": [
    "q =[1]\n",
    "\n",
    "if q :\n",
    "    print('t')"
   ]
  },
  {
   "cell_type": "markdown",
   "metadata": {},
   "source": []
  },
  {
   "cell_type": "code",
   "execution_count": 3,
   "metadata": {},
   "outputs": [
    {
     "name": "stdout",
     "output_type": "stream",
     "text": [
      "http://www.youtube.com/watch?v=4rTkrtH2s3o\n",
      "더 하더 데이 폴 | 공식 예고편 | 넷플릭스 6745 2021.9.28. 146 6 댓글x\n",
      "http://www.youtube.com/watch?v=MMsw6e9xOvY\n",
      "[예고] 오징어 게임 코멘터리가 온다! 오겜에 궁금했던 거 속시원히 다 풀어드림😎| 오징어 게임 Squid Game | 넷플릭스 22058 2021.9.28. 880 6 댓글x\n",
      "http://www.youtube.com/watch?v=QcGYo3t82ig\n",
      "오징어 게임 | 하이라이트 #1. | 넷플릭스 36339 2021.9.28. 453 14 댓글x\n",
      "http://www.youtube.com/watch?v=BEBPnINZT6I\n",
      "오징어 게임 | 하이라이트 #2. | 넷플릭스 41680 2021.9.28. 327 15 댓글x\n",
      "http://www.youtube.com/watch?v=V7MZNd0sorY\n",
      "브리저튼 | TUDUM: 출연진들의 이야기 | 넷플릭스 12589 2021.9.27. 173 2 댓글x\n"
     ]
    }
   ],
   "source": [
    "# bs4 없이\n",
    "driver = webdriver.Chrome('C:/work/python/Asia_GAN/myproject/youtube/chromedriver.exe', options= options)\n",
    "\n",
    "info_list = []\n",
    "\n",
    "for i in range(5):\n",
    "    start_url = video_url[i]\n",
    "    print(start_url)\n",
    "    driver.implicitly_wait(0.5)\n",
    "    driver.get(start_url)\n",
    "    driver.maximize_window()\n",
    "    body = driver.find_element_by_tag_name('body')\n",
    "    # time.sleep(1)\n",
    "\n",
    "\n",
    "    num_of_pagedowns = 1\n",
    "    while num_of_pagedowns:\n",
    "        body.send_keys(Keys.PAGE_DOWN)\n",
    "        time.sleep(.75)\n",
    "        num_of_pagedowns -= 1\n",
    "    # time.sleep(1.5)\n",
    "    # html = driver.page_source\n",
    "    # soup = BeautifulSoup(html, 'lxml')\n",
    "\n",
    "    # date = soup.find('div',{'id':'info-strings','class':'style-scope ytd-video-primary-info-renderer'}).text.replace(' ','')\n",
    "    # title = soup.find('h1',{'class':'title style-scope ytd-video-primary-info-renderer'}).text.replace(',','')\n",
    "    # view = soup.find('span',{'class':'view-count style-scope ytd-video-view-count-renderer'}).text.replace(',','')\n",
    "    # try:\n",
    "    #     comment = soup.find('yt-formatted-string',{'class':'count-text style-scope ytd-comments-header-renderer'}).text.replace(',','')\n",
    "    # except:\n",
    "    #     comment = '댓글x'\n",
    "    # print(date, title, view, comment)#view, comment, like, unlike )\n",
    "        \n",
    "    info = driver.find_element_by_css_selector('.style-scope ytd-video-primary-info-renderer').text.split('\\n')\n",
    "\n",
    "    if '인기 급상승 동영상' in info[0] :\n",
    "        info.pop(0)\n",
    "    elif '#' in info[0].split(' ')[0] :\n",
    "        info.pop(0)\n",
    "    \n",
    "    title = info[0]\n",
    "    divide = info[1].replace('조회수 ','').replace(',','').split('회')\n",
    "    view = divide[0]\n",
    "    date = divide[1].replace(' ','')\n",
    "    like = info[2]\n",
    "    dislike = info[3]    \n",
    "    html = driver.page_source\n",
    "    soup = BeautifulSoup(html, 'lxml')\n",
    "   \n",
    "    try:\n",
    "        comment = driver.find_element_by_css_selector('#count > yt-formatted-string > span:nth-child(2)').text.replace(',','')\n",
    "    except:\n",
    "        comment = '댓글x'\n",
    "        \n",
    "    print(title, view, date, like, dislike, comment)\n",
    "            \n",
    "\n",
    "driver.close()\n"
   ]
  },
  {
   "cell_type": "code",
   "execution_count": 4,
   "metadata": {},
   "outputs": [
    {
     "name": "stdout",
     "output_type": "stream",
     "text": [
      "['']\n"
     ]
    }
   ],
   "source": [
    "print(info)"
   ]
  },
  {
   "cell_type": "code",
   "execution_count": 131,
   "metadata": {},
   "outputs": [
    {
     "name": "stdout",
     "output_type": "stream",
     "text": [
      "[SUB] Ep 08 디피 정해인 구교환 김성균 예능 찢었다 | D.P. | 좋아하면 퍼주는 Quiz Alarm | 넷플릭스 674718 2021.9.3. 1.4만 175\n"
     ]
    }
   ],
   "source": [
    "# print(info_list)\n",
    "info = info_list[0]\n",
    "title = info[0]\n",
    "divide = info[1].replace('조회수 ','').replace(',','').split('회')\n",
    "view = divide[0]\n",
    "date = divide[1].replace(' ','')\n",
    "like = info[2]\n",
    "dislike = info[3]\n",
    "print(title, view, date, like, dislike)\n"
   ]
  },
  {
   "cell_type": "code",
   "execution_count": 26,
   "metadata": {},
   "outputs": [
    {
     "name": "stdout",
     "output_type": "stream",
     "text": [
      "http://www.youtube.com/watch?v=5XFzUCN5il8\n",
      "2021.9.3. [SUB] Ep 08 디피 정해인 구교환 김성균 예능 찢었다  | D.P.  |  좋아하면 퍼주는 Quiz Alarm | 넷플릭스 조회수 682735회 댓글 1175개\n",
      "http://www.youtube.com/watch?v=Zm9HiGUni6c\n",
      "2021.9.2. 레드 노티스 | 공식 티저 예고편 | 넷플릭스 조회수 168703회 댓글 373개\n",
      "http://www.youtube.com/watch?v=nSlTxOoOJS4\n",
      "2021.9.2. '종이의 집'의 상징 빨간 점프 슈트 이야기 | 종이의 집: 파트5 | 넷플릭스 조회수 13780회 댓글 40개\n",
      "http://www.youtube.com/watch?v=irW2TmU-PXQ\n",
      "2021.9.2. D.P. 박범구 중사 아니 김성균 꽃사슴 눈망울로 시원하게 호통친 이유는? 키워드 인터뷰 | 디피 | 넷플릭스 조회수 63681회 댓글 123개\n",
      "http://www.youtube.com/watch?v=ekufuBs7izQ\n",
      "2021.9.1. 한마 바키 | 공식 예고편 2 | 넷플릭스 조회수 12453회 댓글 49개\n"
     ]
    }
   ],
   "source": [
    "# bs4를 사용해서 \n",
    "driver = webdriver.Chrome('C:/work/python/Asia_GAN/myproject/youtube/chromedriver.exe', options= options)\n",
    "\n",
    "info_list = []\n",
    "\n",
    "for i in range(5):\n",
    "    start_url = video_url[i]\n",
    "    print(start_url)\n",
    "    driver.implicitly_wait(0.5)\n",
    "    driver.get(start_url)\n",
    "    driver.maximize_window()\n",
    "    body = driver.find_element_by_tag_name('body')\n",
    "    time.sleep(0.5)\n",
    "\n",
    "\n",
    "    num_of_pagedowns = 1\n",
    "    while num_of_pagedowns:\n",
    "        body.send_keys(Keys.PAGE_DOWN)\n",
    "        time.sleep(1)\n",
    "        num_of_pagedowns -= 1\n",
    "        \n",
    "\n",
    "    html = driver.page_source\n",
    "    soup = BeautifulSoup(html, 'lxml')\n",
    "\n",
    "    date = soup.find('div',{'id':'info-strings','class':'style-scope ytd-video-primary-info-renderer'}).text.replace(' ','')\n",
    "    title = soup.find('h1',{'class':'title style-scope ytd-video-primary-info-renderer'}).text.replace(',','')\n",
    "    view = soup.find('span',{'class':'view-count style-scope ytd-video-view-count-renderer'}).text.replace(',','')\n",
    "    try:\n",
    "        comment = soup.find('yt-formatted-string',{'class':'count-text style-scope ytd-comments-header-renderer'}).text.replace(',','')\n",
    "    except:\n",
    "        comment = '댓글x'\n",
    "    print(date, title, view, comment) # comment, like, dislike )\n",
    "    \n",
    "            \n",
    "\n",
    "driver.close()\n"
   ]
  },
  {
   "cell_type": "code",
   "execution_count": null,
   "metadata": {},
   "outputs": [],
   "source": [
    "from bs4 import BeautifulSoup as bs\n",
    "soup = bs(driver.page_source, 'lxml')\n",
    "\n",
    "title =soup.select('a#video-title')\n",
    "# 영상 제목만 전체 조회\n",
    "for i in title:\n",
    "    print(i.text.strip())\n",
    "    \n",
    "# 조회수 / 날짜    \n",
    "soup.select('span.style-scope.ytd-video-meta-block')    \n",
    "\n",
    "# 조회수만    \n",
    "view = soup.select('div#metadata-line > span:nth-child(1)')"
   ]
  },
  {
   "cell_type": "code",
   "execution_count": null,
   "metadata": {},
   "outputs": [],
   "source": [
    "title_list = []\n",
    "view_list = []\n",
    "\n",
    "for i in range(len(title)):\n",
    "    title_list.append(title[i].text.strip())\n",
    "    view_list.append(view[i].text.strip())\n",
    "    \n",
    "print(title_list)\n",
    "print(view_list)"
   ]
  }
 ],
 "metadata": {
  "interpreter": {
   "hash": "19a2027c367e4a8fbf50703f7b521df71edff403eb9eba2200ef5f1febf03a5b"
  },
  "kernelspec": {
   "display_name": "Python 3.7.10 64-bit ('exam_cv2': conda)",
   "name": "python3"
  },
  "language_info": {
   "codemirror_mode": {
    "name": "ipython",
    "version": 3
   },
   "file_extension": ".py",
   "mimetype": "text/x-python",
   "name": "python",
   "nbconvert_exporter": "python",
   "pygments_lexer": "ipython3",
   "version": "3.7.11"
  },
  "orig_nbformat": 4
 },
 "nbformat": 4,
 "nbformat_minor": 2
}
