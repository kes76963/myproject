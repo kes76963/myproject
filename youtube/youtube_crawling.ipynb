{
 "cells": [
  {
   "cell_type": "markdown",
   "source": [
    "크롤링 사람들이 무엇에 관심을 가질까?\r\n",
    "\r\n",
    "크롤링1 => 셀레니움(페이지 다운) 채널 썸네일, 링크 수집\r\n",
    "크롤링2 => bs4 링크 들어가서 제목, 조회수, 댓글 개수 / 셀레니움 댓글 일정 수준 이상이면 긁어오기 \r\n",
    "\r\n",
    "제목 / 조회수 / 썸네일 (6개월ㅅㅅ)\r\n",
    "- 같은 주제인데 조회수 차이나는 이유\r\n",
    "- 유튜브 알고리즘이 더 밀어주는 주제(당시 상황에 기인하는지?)\r\n",
    "- 꾸준히 성장하는 유튜버, 퐁당퐁당하는 유튜버, 일정 조회수 이상 유지하는 유튜버 차이\r\n",
    "\r\n",
    "댓글 \r\n",
    "- 주로 시청자가 원하는게 뭘까? 요약 또는 키워드 중심으로 / 긍정 or 부정적인지 \r\n",
    "- 이름으로 성별 파악 데이터셋 완료\r\n",
    "- 댓글 닉네임 / 연령, 성별 파악 가능할까? (이름으로 연령과 성별 코드 생각해보기 / 닉네임의 특성파악 )\r\n",
    "\r\n",
    "직접\r\n",
    "영상 시청 : 어떤 메리트가 있는지, 어떻게 해서 8분을 채우는지, 틈새시장 전략은 무엇인지\r\n",
    "폭발적으로 영상이 터지기 시작한 시점, 사건, 계기 분석 (꾸준히 or 한 번에)"
   ],
   "metadata": {}
  },
  {
   "cell_type": "code",
   "execution_count": 2,
   "source": [
    "# 옵션들\r\n",
    "from selenium import webdriver\r\n",
    "# from selenium.webdriver.chrome.options import Options\r\n",
    "# from selenium.webdriver.common.keys import Keys\r\n",
    "# from selenium.webdriver.common.action_chains import ActionChains\r\n",
    "\r\n",
    "options = webdriver.ChromeOptions() # 크롬 옵션 객체 생성\r\n",
    "user_agent = \"Mozilla/5.0 (Windows NT 4.0; WOW64) AppleWebKit/537.36 (KHTML, like Gecko) Chrome/37.0.2049.0 Safari/537.36 \"\r\n",
    "options.add_argument('user-agent=' + user_agent)\r\n",
    "#options.add_argument('headless') # headless 모드 설정\r\n",
    "options.add_argument(\"window-size=1920x1080\") # 화면크기(전체화면)\r\n",
    "options.add_argument(\"disable-gpu\") \r\n",
    "options.add_argument(\"disable-infobars\")\r\n",
    "options.add_argument(\"--disable-extensions\")\r\n",
    "options.add_argument(\"--mute-audio\") #mute\r\n",
    "options.add_argument(\"lang=ko_KR\") # 가짜 플러그인 탑재\r\n",
    "options.add_argument('--blink-settings=imagesEnabled=false') #브라우저에서 이미지 로딩을 하지 않습니다.\r\n",
    "options.add_argument('incognito') #시크릿 모드의 브라우저가 실행됩니다.\r\n",
    "options.add_argument(\"--start-maximized\")\r\n",
    "#options.add_argument('--kiosk') f11\r\n",
    "\r\n",
    "\r\n",
    "# 속도 향상을 위한 옵션 해제\r\n",
    "prefs = {\r\n",
    "  \"translate_whitelists\": {\"en\":\"ko\"},\r\n",
    "  \"translate\":{\"enabled\":\"true\"}\r\n",
    "}\r\n",
    "options.add_experimental_option(\"prefs\", prefs) # 한국어로 자동 번역\r\n",
    "prefs = {'profile.default_content_setting_values': {'cookies' : 2, 'images': 2, 'plugins' : 2, 'popups': 2, 'geolocation': 2, 'notifications' : 2, 'auto_select_certificate': 2, 'fullscreen' : 2, 'mouselock' : 2, 'mixed_script': 2, 'media_stream' : 2, 'media_stream_mic' : 2, 'media_stream_camera': 2, 'protocol_handlers' : 2, 'ppapi_broker' : 2, 'automatic_downloads': 2, 'midi_sysex' : 2, 'push_messaging' : 2, 'ssl_cert_decisions': 2, 'metro_switch_to_desktop' : 2, 'protected_media_identifier': 2, 'app_banner': 2, 'site_engagement' : 2, 'durable_storage' : 2}}   \r\n",
    "options.add_experimental_option('prefs', prefs)"
   ],
   "outputs": [],
   "metadata": {}
  },
  {
   "cell_type": "code",
   "execution_count": 3,
   "source": [
    "from bs4 import BeautifulSoup\r\n",
    "from selenium import webdriver\r\n",
    "from selenium.webdriver.common.keys import Keys\r\n",
    "import time\r\n",
    "\r\n",
    "driver = webdriver.Chrome('C:/work/python/Asia_GAN/myproject/youtube/chromedriver.exe', options= options)\r\n",
    "url = \"https://www.youtube.com/c/NetflixKorea/videos\"\r\n",
    "driver.get(url)\r\n",
    "\r\n",
    "# 스크롤 다운\r\n",
    "time.sleep(3)\r\n",
    "endk = 5\r\n",
    "while endk:\r\n",
    "    driver.find_element_by_tag_name('body').send_keys(Keys.END)\r\n",
    "    time.sleep(0.3)\r\n",
    "    endk -= 1\r\n",
    "\r\n",
    "# bs4 실행    \r\n",
    "html = driver.page_source\r\n",
    "soup = BeautifulSoup(html, 'lxml')\r\n",
    "\r\n",
    "video_list0 = soup.find('div', {'id': 'contents'})\r\n",
    "video_list2 = video_list0.find_all('ytd-grid-video-renderer',{'class':'style-scope ytd-grid-renderer'})\r\n",
    "\r\n",
    "base_url = 'http://www.youtube.com'\r\n",
    "video_url = []\r\n",
    "\r\n",
    "# 반복문을 실행시켜 비디오의 주소를 video_url에 넣는다.\r\n",
    "for i in range(len(video_list2)):\r\n",
    "    url = base_url+video_list2[i].find('a',{'id':'thumbnail'})['href']\r\n",
    "    video_url.append(url)\r\n",
    "    \r\n",
    "print(video_url)"
   ],
   "outputs": [
    {
     "output_type": "stream",
     "name": "stdout",
     "text": [
      "['http://www.youtube.com/watch?v=5XFzUCN5il8', 'http://www.youtube.com/watch?v=Zm9HiGUni6c', 'http://www.youtube.com/watch?v=nSlTxOoOJS4', 'http://www.youtube.com/watch?v=irW2TmU-PXQ', 'http://www.youtube.com/watch?v=ekufuBs7izQ', 'http://www.youtube.com/watch?v=b96oSVw75lA', 'http://www.youtube.com/watch?v=-qCooQxYWws', 'http://www.youtube.com/watch?v=qbKvFIuMRIU', 'http://www.youtube.com/watch?v=2FXP6eFmbfQ', 'http://www.youtube.com/watch?v=Dz00deiTRO8', 'http://www.youtube.com/watch?v=4Xv-zcvsG68', 'http://www.youtube.com/watch?v=qIzqfPzQsoc', 'http://www.youtube.com/watch?v=ZRwGm7Rn8pE', 'http://www.youtube.com/watch?v=qFBGyH0e4Yg', 'http://www.youtube.com/watch?v=uZ1xxZ47XSs', 'http://www.youtube.com/watch?v=i9tiHlt3otI', 'http://www.youtube.com/watch?v=HYqwIA3UD9U', 'http://www.youtube.com/watch?v=_y4FavmH20s', 'http://www.youtube.com/watch?v=u-_9smPrA60', 'http://www.youtube.com/watch?v=MqbWb6nzSmo', 'http://www.youtube.com/watch?v=E-TEFdr3dIw', 'http://www.youtube.com/watch?v=4XXefsluPeQ', 'http://www.youtube.com/watch?v=M-6u_CR-KMs', 'http://www.youtube.com/watch?v=JysDcjidTcA', 'http://www.youtube.com/watch?v=4Ng2ePQTRRQ', 'http://www.youtube.com/watch?v=I74djb4ql84', 'http://www.youtube.com/watch?v=9xunjILHvro', 'http://www.youtube.com/watch?v=lFMobna17QU', 'http://www.youtube.com/watch?v=89YspdjgqMo', 'http://www.youtube.com/watch?v=tngyy2UcWuI', 'http://www.youtube.com/watch?v=TheZuyFoCZw', 'http://www.youtube.com/watch?v=8U7uSFz0QGI', 'http://www.youtube.com/watch?v=3zdp6kMX9OE', 'http://www.youtube.com/watch?v=CZpl1qHXFqI', 'http://www.youtube.com/watch?v=7hrN_yVJz6I', 'http://www.youtube.com/watch?v=_MyFmXlVbrs', 'http://www.youtube.com/watch?v=2EbhZrZnTn4', 'http://www.youtube.com/watch?v=ONDFZeBR5Zs', 'http://www.youtube.com/watch?v=Zi8LCveQ0Ys', 'http://www.youtube.com/watch?v=biPk5sXh7cc', 'http://www.youtube.com/watch?v=a6pTYlSf6fg', 'http://www.youtube.com/watch?v=lJj37Tt-3NQ', 'http://www.youtube.com/watch?v=t9P859pHOrk', 'http://www.youtube.com/watch?v=URwtHXWQvzU', 'http://www.youtube.com/watch?v=KL72CPdOzpY', 'http://www.youtube.com/watch?v=BsdcAE3k6x4', 'http://www.youtube.com/watch?v=7sKJOiE1l90', 'http://www.youtube.com/watch?v=ckujsPirIMw', 'http://www.youtube.com/watch?v=YPwJ6__NbVA', 'http://www.youtube.com/watch?v=dP57Rnzr2M0', 'http://www.youtube.com/watch?v=o3fH3O9ZVDg', 'http://www.youtube.com/watch?v=CuFXDkHdwM0', 'http://www.youtube.com/watch?v=0ofxOQkPAwY', 'http://www.youtube.com/watch?v=nCDRVWeOnYE', 'http://www.youtube.com/watch?v=fLOh_O-z18o', 'http://www.youtube.com/watch?v=7aFxsj5WWSo', 'http://www.youtube.com/watch?v=p672SS5OwfM', 'http://www.youtube.com/watch?v=vqGFObMMOYM', 'http://www.youtube.com/watch?v=PUT0DU9gYsc', 'http://www.youtube.com/watch?v=iB3RjsKA4hg', 'http://www.youtube.com/watch?v=oqPDnXBi0ng', 'http://www.youtube.com/watch?v=skJjzmp18BA', 'http://www.youtube.com/watch?v=dsGSkBIc_68', 'http://www.youtube.com/watch?v=2oJkowWlGxE', 'http://www.youtube.com/watch?v=La_umG747Ms', 'http://www.youtube.com/watch?v=8tfDySmjusk', 'http://www.youtube.com/watch?v=_vlVTDrj0t0', 'http://www.youtube.com/watch?v=m2zfU7SG4m0', 'http://www.youtube.com/watch?v=piJUsuTSQy8', 'http://www.youtube.com/watch?v=vtkp1Hj-KwQ', 'http://www.youtube.com/watch?v=b7TZStrgAt8', 'http://www.youtube.com/watch?v=LU_a3I9G73U', 'http://www.youtube.com/watch?v=fE5VS9esK4o', 'http://www.youtube.com/watch?v=6gigC4zq4-g', 'http://www.youtube.com/watch?v=OnkPeylLtKY', 'http://www.youtube.com/watch?v=spVZCKHwoh8', 'http://www.youtube.com/watch?v=rO3gF04G-2I', 'http://www.youtube.com/watch?v=EzYPs30CUB4', 'http://www.youtube.com/watch?v=Fs6tAKHDX-g', 'http://www.youtube.com/watch?v=qpMbPANYNIE', 'http://www.youtube.com/watch?v=NAu0A0oMs_k', 'http://www.youtube.com/watch?v=a41kGix2KwI', 'http://www.youtube.com/watch?v=ILGJ3HvpkjA', 'http://www.youtube.com/watch?v=-7OswJ7xz-I', 'http://www.youtube.com/watch?v=A3-cLkQXJ9I', 'http://www.youtube.com/watch?v=PaDUzLhAuP8', 'http://www.youtube.com/watch?v=FHaAClf3Lpw', 'http://www.youtube.com/watch?v=z60JKLPmF-E', 'http://www.youtube.com/watch?v=q5hAZY6_7q0', 'http://www.youtube.com/watch?v=PcRctB4rZHE', 'http://www.youtube.com/watch?v=r3-OBrcZNLw', 'http://www.youtube.com/watch?v=w_dKKPZKRHY', 'http://www.youtube.com/watch?v=ccSdMrR3CYA', 'http://www.youtube.com/watch?v=BBv1DCTmcTE', 'http://www.youtube.com/watch?v=HMiEPEEPgpk', 'http://www.youtube.com/watch?v=DWW1qTfmtF4', 'http://www.youtube.com/watch?v=J2qtlTTfF-g', 'http://www.youtube.com/watch?v=-Hv7T7fIjBY', 'http://www.youtube.com/watch?v=o30h92k69LY', 'http://www.youtube.com/watch?v=nEF5vQVbRXM', 'http://www.youtube.com/watch?v=nMa4UJDc7OY', 'http://www.youtube.com/watch?v=bPrAmhchvDs', 'http://www.youtube.com/watch?v=Vvo2eM16z2s', 'http://www.youtube.com/watch?v=jz_7_LXCGC0', 'http://www.youtube.com/watch?v=VyweNLXJSjk', 'http://www.youtube.com/watch?v=gMEDl28MG_o', 'http://www.youtube.com/watch?v=8exr6DNw0_0', 'http://www.youtube.com/watch?v=v8ZkTvrQEeY', 'http://www.youtube.com/watch?v=A0DxspVQoHo', 'http://www.youtube.com/watch?v=H_mKAKDbulQ', 'http://www.youtube.com/watch?v=-QoGRVKRDLU', 'http://www.youtube.com/watch?v=m8snOcBOOIE', 'http://www.youtube.com/watch?v=BXUp0LwbDJk', 'http://www.youtube.com/watch?v=whVaOdXqEIc', 'http://www.youtube.com/watch?v=YV3WbkPaDHE', 'http://www.youtube.com/watch?v=Aom9yupMUX4', 'http://www.youtube.com/watch?v=WEMECZMBQYg', 'http://www.youtube.com/watch?v=Cy_axt6jHHo', 'http://www.youtube.com/watch?v=klCWPrr-w2U', 'http://www.youtube.com/watch?v=KFUaSQrZ04I']\n"
     ]
    }
   ],
   "metadata": {}
  },
  {
   "cell_type": "markdown",
   "source": [],
   "metadata": {}
  },
  {
   "cell_type": "code",
   "execution_count": 19,
   "source": [
    "# bs4 없이\r\n",
    "# driver = webdriver.Chrome('C:/work/python/Asia_GAN/myproject/youtube/chromedriver.exe', options= options)\r\n",
    "\r\n",
    "info_list = []\r\n",
    "\r\n",
    "for i in range(5):\r\n",
    "    start_url = video_url[i]\r\n",
    "    print(start_url)\r\n",
    "    driver.implicitly_wait(0.5)\r\n",
    "    driver.get(start_url)\r\n",
    "    driver.maximize_window()\r\n",
    "    body = driver.find_element_by_tag_name('body')\r\n",
    "    # time.sleep(1)\r\n",
    "\r\n",
    "\r\n",
    "    num_of_pagedowns = 1\r\n",
    "    while num_of_pagedowns:\r\n",
    "        body.send_keys(Keys.PAGE_DOWN)\r\n",
    "        time.sleep(0.5)\r\n",
    "        num_of_pagedowns -= 1\r\n",
    "    # time.sleep(1.5)\r\n",
    "    # html = driver.page_source\r\n",
    "    # soup = BeautifulSoup(html, 'lxml')\r\n",
    "\r\n",
    "    # date = soup.find('div',{'id':'info-strings','class':'style-scope ytd-video-primary-info-renderer'}).text.replace(' ','')\r\n",
    "    # title = soup.find('h1',{'class':'title style-scope ytd-video-primary-info-renderer'}).text.replace(',','')\r\n",
    "    # view = soup.find('span',{'class':'view-count style-scope ytd-video-view-count-renderer'}).text.replace(',','')\r\n",
    "    # try:\r\n",
    "    #     comment = soup.find('yt-formatted-string',{'class':'count-text style-scope ytd-comments-header-renderer'}).text.replace(',','')\r\n",
    "    # except:\r\n",
    "    #     comment = '댓글x'\r\n",
    "    # print(date, title, view, comment)#view, comment, like, unlike )\r\n",
    "        \r\n",
    "    info = driver.find_element_by_css_selector('.style-scope ytd-video-primary-info-renderer').text.split('\\n')\r\n",
    "\r\n",
    "    if '인기 급상승 동영상' in info[0] :\r\n",
    "        info.pop(0)\r\n",
    "    elif '#' in info[0].split(' ')[0] :\r\n",
    "        info.pop(0)\r\n",
    "    \r\n",
    "    title = info[0]\r\n",
    "    divide = info[1].replace('조회수 ','').replace(',','').split('회')\r\n",
    "    view = divide[0]\r\n",
    "    date = divide[1].replace(' ','')\r\n",
    "    like = info[2]\r\n",
    "    dislike = info[3]    \r\n",
    "    html = driver.page_source\r\n",
    "    soup = BeautifulSoup(html, 'lxml')\r\n",
    "   \r\n",
    "    try:\r\n",
    "        comment = driver.find_element_by_css_selector('#count > yt-formatted-string > span:nth-child(2)').text.replace(',','')\r\n",
    "    except:\r\n",
    "        comment = '댓글x'\r\n",
    "        \r\n",
    "    print(title, view, date, like, dislike, comment)\r\n",
    "            \r\n",
    "\r\n",
    "driver.close()\r\n"
   ],
   "outputs": [
    {
     "output_type": "stream",
     "name": "stdout",
     "text": [
      "http://www.youtube.com/watch?v=5XFzUCN5il8\n",
      "[SUB] Ep 08 디피 정해인 구교환 김성균 예능 찢었다 | D.P. | 좋아하면 퍼주는 Quiz Alarm | 넷플릭스 681408 2021.9.3. 1.4만 176 1,175\n",
      "http://www.youtube.com/watch?v=Zm9HiGUni6c\n",
      "레드 노티스 | 공식 티저 예고편 | 넷플릭스 168525 2021.9.2. 2.1천 25 373\n",
      "http://www.youtube.com/watch?v=nSlTxOoOJS4\n",
      "'종이의 집'의 상징, 빨간 점프 슈트 이야기 | 종이의 집: 파트5 | 넷플릭스 13728 2021.9.2. 227 1 40\n",
      "http://www.youtube.com/watch?v=irW2TmU-PXQ\n",
      "D.P. 박범구 중사 아니 김성균, 꽃사슴 눈망울로 시원하게 호통친 이유는? 키워드 인터뷰 | 디피 | 넷플릭스 63636 2021.9.2. 1.6천 1 122\n",
      "http://www.youtube.com/watch?v=ekufuBs7izQ\n",
      "한마 바키 | 공식 예고편 2 | 넷플릭스 12453 2021.9.1. 132 21 49\n"
     ]
    }
   ],
   "metadata": {}
  },
  {
   "cell_type": "code",
   "execution_count": 131,
   "source": [
    "# print(info_list)\r\n",
    "info = info_list[0]\r\n",
    "title = info[0]\r\n",
    "divide = info[1].replace('조회수 ','').replace(',','').split('회')\r\n",
    "view = divide[0]\r\n",
    "date = divide[1].replace(' ','')\r\n",
    "like = info[2]\r\n",
    "dislike = info[3]\r\n",
    "print(title, view, date, like, dislike)\r\n"
   ],
   "outputs": [
    {
     "output_type": "stream",
     "name": "stdout",
     "text": [
      "[SUB] Ep 08 디피 정해인 구교환 김성균 예능 찢었다 | D.P. | 좋아하면 퍼주는 Quiz Alarm | 넷플릭스 674718 2021.9.3. 1.4만 175\n"
     ]
    }
   ],
   "metadata": {}
  },
  {
   "cell_type": "code",
   "execution_count": 26,
   "source": [
    "# bs4를 사용해서 \r\n",
    "driver = webdriver.Chrome('C:/work/python/Asia_GAN/myproject/youtube/chromedriver.exe', options= options)\r\n",
    "\r\n",
    "info_list = []\r\n",
    "\r\n",
    "for i in range(5):\r\n",
    "    start_url = video_url[i]\r\n",
    "    print(start_url)\r\n",
    "    driver.implicitly_wait(0.5)\r\n",
    "    driver.get(start_url)\r\n",
    "    driver.maximize_window()\r\n",
    "    body = driver.find_element_by_tag_name('body')\r\n",
    "    time.sleep(0.5)\r\n",
    "\r\n",
    "\r\n",
    "    num_of_pagedowns = 1\r\n",
    "    while num_of_pagedowns:\r\n",
    "        body.send_keys(Keys.PAGE_DOWN)\r\n",
    "        time.sleep(1)\r\n",
    "        num_of_pagedowns -= 1\r\n",
    "        \r\n",
    "\r\n",
    "    html = driver.page_source\r\n",
    "    soup = BeautifulSoup(html, 'lxml')\r\n",
    "\r\n",
    "    date = soup.find('div',{'id':'info-strings','class':'style-scope ytd-video-primary-info-renderer'}).text.replace(' ','')\r\n",
    "    title = soup.find('h1',{'class':'title style-scope ytd-video-primary-info-renderer'}).text.replace(',','')\r\n",
    "    view = soup.find('span',{'class':'view-count style-scope ytd-video-view-count-renderer'}).text.replace(',','')\r\n",
    "    try:\r\n",
    "        comment = soup.find('yt-formatted-string',{'class':'count-text style-scope ytd-comments-header-renderer'}).text.replace(',','')\r\n",
    "    except:\r\n",
    "        comment = '댓글x'\r\n",
    "    print(date, title, view, comment) # comment, like, dislike )\r\n",
    "    \r\n",
    "            \r\n",
    "\r\n",
    "driver.close()\r\n"
   ],
   "outputs": [
    {
     "output_type": "stream",
     "name": "stdout",
     "text": [
      "http://www.youtube.com/watch?v=5XFzUCN5il8\n",
      "2021.9.3. [SUB] Ep 08 디피 정해인 구교환 김성균 예능 찢었다  | D.P.  |  좋아하면 퍼주는 Quiz Alarm | 넷플릭스 조회수 682735회 댓글 1175개\n",
      "http://www.youtube.com/watch?v=Zm9HiGUni6c\n",
      "2021.9.2. 레드 노티스 | 공식 티저 예고편 | 넷플릭스 조회수 168703회 댓글 373개\n",
      "http://www.youtube.com/watch?v=nSlTxOoOJS4\n",
      "2021.9.2. '종이의 집'의 상징 빨간 점프 슈트 이야기 | 종이의 집: 파트5 | 넷플릭스 조회수 13780회 댓글 40개\n",
      "http://www.youtube.com/watch?v=irW2TmU-PXQ\n",
      "2021.9.2. D.P. 박범구 중사 아니 김성균 꽃사슴 눈망울로 시원하게 호통친 이유는? 키워드 인터뷰 | 디피 | 넷플릭스 조회수 63681회 댓글 123개\n",
      "http://www.youtube.com/watch?v=ekufuBs7izQ\n",
      "2021.9.1. 한마 바키 | 공식 예고편 2 | 넷플릭스 조회수 12453회 댓글 49개\n"
     ]
    }
   ],
   "metadata": {}
  },
  {
   "cell_type": "code",
   "execution_count": null,
   "source": [
    "from bs4 import BeautifulSoup as bs\r\n",
    "soup = bs(driver.page_source, 'lxml')\r\n",
    "\r\n",
    "title =soup.select('a#video-title')\r\n",
    "# 영상 제목만 전체 조회\r\n",
    "for i in title:\r\n",
    "    print(i.text.strip())\r\n",
    "    \r\n",
    "# 조회수 / 날짜    \r\n",
    "soup.select('span.style-scope.ytd-video-meta-block')    \r\n",
    "\r\n",
    "# 조회수만    \r\n",
    "view = soup.select('div#metadata-line > span:nth-child(1)')"
   ],
   "outputs": [],
   "metadata": {}
  },
  {
   "cell_type": "code",
   "execution_count": null,
   "source": [
    "title_list = []\r\n",
    "view_list = []\r\n",
    "\r\n",
    "for i in range(len(title)):\r\n",
    "    title_list.append(title[i].text.strip())\r\n",
    "    view_list.append(view[i].text.strip())\r\n",
    "    \r\n",
    "print(title_list)\r\n",
    "print(view_list)"
   ],
   "outputs": [],
   "metadata": {}
  }
 ],
 "metadata": {
  "orig_nbformat": 4,
  "language_info": {
   "name": "python",
   "version": "3.7.10",
   "mimetype": "text/x-python",
   "codemirror_mode": {
    "name": "ipython",
    "version": 3
   },
   "pygments_lexer": "ipython3",
   "nbconvert_exporter": "python",
   "file_extension": ".py"
  },
  "kernelspec": {
   "name": "python3",
   "display_name": "Python 3.7.10 64-bit ('exam_cv2': conda)"
  },
  "interpreter": {
   "hash": "19a2027c367e4a8fbf50703f7b521df71edff403eb9eba2200ef5f1febf03a5b"
  }
 },
 "nbformat": 4,
 "nbformat_minor": 2
}