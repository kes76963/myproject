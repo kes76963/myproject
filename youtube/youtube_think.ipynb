{
 "cells": [
  {
   "cell_type": "markdown",
   "source": [
    "직접 해야될거\r\n",
    "1. 언제 조회수 폭발했는지 / 이슈 or 초심자의 행운 알고리즘 or 꾸준한 성장세\r\n",
    "2. 채널별 영상 최소 10개 보기 / 38개 x 10 x 5분(2배속) = 31시간 = > 영상 내용, 인터넷에 검색 (+ 5시간)\r\n",
    "3. 채널별 영상 구성 / 썸네일(1순위), 영상 인트로, 재료(영상, 사진), 자막크기 / 영상길이\r\n",
    "4. 제목 짓는 방법\r\n",
    "\r\n",
    "크롤링\r\n",
    "1. 제목, 조회수, 좋아요, 댓글 (좋아요 수 - 확인)\r\n",
    "2. 채널명 > 채널 전체 링크 담긴 csv 파일 + 영상 댓글 따로 저장\r\n",
    "\r\n",
    "if 비교\r\n",
    "채널명 열 하나 추가, 날짜별 조회수 비교 (날짜 하루에 2개면 더 높은 조회수로)\r\n",
    "\r\n",
    "인공지능 \r\n",
    "1. 채널 성별, 연령 (추후)\r\n",
    "2. 제목 kogpt2\r\n",
    "3. 내용 kogpt2 (추후)\r\n",
    "4. 조회수 예측 (추후)\r\n",
    "5. 조회수가 이슈로 인해 생긴 것인지 matplotlib\r\n",
    "\r\n",
    "https://www.geeksforgeeks.org/python-downloading-captions-from-youtube/ # 유튜브 자막 다운 api\r\n",
    "https://ebbnflow.tistory.com/246 # 비교 띄어쓰기 맞춤법\r\n",
    "\r\n",
    "pip install git+https://github.com/haven-jeon/PyKoSpacing.git\r\n",
    "pip install kss"
   ],
   "metadata": {}
  }
 ],
 "metadata": {
  "orig_nbformat": 4,
  "language_info": {
   "name": "python"
  }
 },
 "nbformat": 4,
 "nbformat_minor": 2
}