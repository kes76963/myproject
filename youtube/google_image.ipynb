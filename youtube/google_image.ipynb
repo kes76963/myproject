{
 "cells": [
  {
   "cell_type": "code",
   "execution_count": null,
   "source": [
    "# pip install google_images_download\r\n",
    "# pip install git+https://github.com/Joeclinton1/google-images-download.git"
   ],
   "outputs": [],
   "metadata": {}
  },
  {
   "cell_type": "code",
   "execution_count": null,
   "source": [
    "from google_images_download import google_images_download\r\n",
    "\r\n",
    "def googleImageCrawling(keyword,limit):\r\n",
    "    response = google_images_download.googleimagesdownload()\r\n",
    "    arguments = {\"keywords\":keyword,\"limit\":limit,\"print_urls\":True,\"format\":\"jpg\"}\r\n",
    "    paths = response.download(arguments)\r\n",
    "    print(paths)\r\n",
    "\r\n",
    "googleImageCrawling('오징어게임',20)"
   ],
   "outputs": [],
   "metadata": {}
  }
 ],
 "metadata": {
  "orig_nbformat": 4,
  "language_info": {
   "name": "python",
   "version": "3.7.11",
   "mimetype": "text/x-python",
   "codemirror_mode": {
    "name": "ipython",
    "version": 3
   },
   "pygments_lexer": "ipython3",
   "nbconvert_exporter": "python",
   "file_extension": ".py"
  },
  "kernelspec": {
   "name": "python3",
   "display_name": "Python 3.7.11 64-bit ('exam_cv2': conda)"
  },
  "interpreter": {
   "hash": "19a2027c367e4a8fbf50703f7b521df71edff403eb9eba2200ef5f1febf03a5b"
  }
 },
 "nbformat": 4,
 "nbformat_minor": 2
}