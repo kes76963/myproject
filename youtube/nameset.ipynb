{
 "cells": [
  {
   "cell_type": "code",
   "execution_count": 9,
   "source": [
    "from bs4 import BeautifulSoup\r\n",
    "import pandas as pd\r\n",
    "import requests\r\n",
    "import re\r\n",
    "\r\n",
    "male_list = []\r\n",
    "female_list = []\r\n",
    "uni_list = []\r\n",
    "\r\n",
    "for i in range(1,1200) :\r\n",
    "    url = f'https://www.namechart.kr/chart/all?gender=t&page={i}' #{i}'\r\n",
    "\r\n",
    "    headers = {\"User-Agent\":\"Mozilla/5.0 (Windows NT 10.0; Win64; x64) AppleWebKit/537.36 (KHTML, like Gecko) Chrome/90.0.4430.93 Safari/537.36\"}\r\n",
    "    res = requests.get(url, headers=headers)\r\n",
    "    res.raise_for_status() # 문제시 프로그램 종료\r\n",
    "    soup = BeautifulSoup(res.text, \"lxml\") \r\n",
    "    \r\n",
    "    male = soup.select(\"span.MuiTypography-root.MuiTypography-body1.css-1bsukf-MuiTypography-root\")\r\n",
    "\r\n",
    "    for m in male :\r\n",
    "        text1 = m.text\r\n",
    "        male_list.append(text1)\r\n",
    "    \r\n",
    "    female = soup.select(\"span.MuiTypography-root.MuiTypography-body1.css-85vlfb-MuiTypography-root\")\r\n",
    "    \r\n",
    "    for f in female :\r\n",
    "        text2 = f.text\r\n",
    "        female_list.append(text2)\r\n",
    "    \r\n",
    "    uni = soup.select(\"span.MuiTypography-root.MuiTypography-body1.css-1ow3q1m-MuiTypography-root\")\r\n",
    "    \r\n",
    "    for u in uni :\r\n",
    "        text3 = u.text\r\n",
    "        uni_list.append(text3)\r\n",
    "\r\n",
    "    if i % 10 == 0 :\r\n",
    "        print('#',end='')\r\n",
    "    \r\n",
    "    if i % 100 == 0 :\r\n",
    "        print('/', end='')\r\n",
    "        \r\n",
    "print('완료')\r\n",
    "    \r\n",
    "\r\n",
    "# class= \"MuiTypography-root MuiTypography-body1 css-85vlfb-MuiTypography-root\" #여자\r\n",
    "# class= \"MuiTypography-root MuiTypography-body1 css-1bsukf-MuiTypography-root\" #남자\r\n",
    "# class= \"MuiTypography-root MuiTypography-body1 css-1ow3q1m-MuiTypography-root\" #중성"
   ],
   "outputs": [
    {
     "output_type": "stream",
     "name": "stdout",
     "text": [
      "##########/##########/##########/##########/##########/##########/##########/##########/##########/##########/##########/#########완료\n"
     ]
    }
   ],
   "metadata": {}
  },
  {
   "cell_type": "code",
   "execution_count": 10,
   "source": [
    "df1 = pd.DataFrame({'name': male_list, 'gender' : '1'})\r\n",
    "df2 = pd.DataFrame({'name': female_list, 'gender' : '2'})\r\n",
    "df3 = pd.DataFrame({'name': uni_list, 'gender' : '3'})\r\n",
    "\r\n",
    "df = pd.concat([df1, df2, df3], axis = 0, ignore_index=True)\r\n",
    "df.info()\r\n",
    "df.to_csv('name_gender.csv',encoding='utf-8-sig')\r\n",
    "print('완료')"
   ],
   "outputs": [
    {
     "output_type": "stream",
     "name": "stdout",
     "text": [
      "<class 'pandas.core.frame.DataFrame'>\n",
      "RangeIndex: 59904 entries, 0 to 59903\n",
      "Data columns (total 2 columns):\n",
      " #   Column  Non-Null Count  Dtype \n",
      "---  ------  --------------  ----- \n",
      " 0   name    59904 non-null  object\n",
      " 1   gender  59904 non-null  object\n",
      "dtypes: object(2)\n",
      "memory usage: 936.1+ KB\n",
      "완료\n"
     ]
    }
   ],
   "metadata": {}
  }
 ],
 "metadata": {
  "orig_nbformat": 4,
  "language_info": {
   "name": "python",
   "version": "3.7.10"
  },
  "kernelspec": {
   "name": "python3",
   "display_name": "Python 3.7.10 64-bit ('exam_cv2': conda)"
  },
  "interpreter": {
   "hash": "19a2027c367e4a8fbf50703f7b521df71edff403eb9eba2200ef5f1febf03a5b"
  }
 },
 "nbformat": 4,
 "nbformat_minor": 2
}