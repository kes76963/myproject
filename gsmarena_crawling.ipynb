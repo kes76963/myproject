{
 "cells": [
  {
   "cell_type": "code",
   "execution_count": 56,
   "metadata": {},
   "outputs": [
    {
     "name": "stdout",
     "output_type": "stream",
     "text": [
      "225\n",
      "w : 225, p : 789.00\n"
     ]
    }
   ],
   "source": [
    "from bs4 import BeautifulSoup\n",
    "import pandas as pd\n",
    "import requests\n",
    "\n",
    "url = 'https://www.gsmarena.com/xiaomi_mix_4-11040.php'\n",
    "\n",
    "headers = {\"User-Agent\":\"Mozilla/5.0 (Windows NT 10.0; Win64; x64) AppleWebKit/537.36 (KHTML, like Gecko) Chrome/90.0.4430.93 Safari/537.36\"}\n",
    "res = requests.get(url, headers=headers)\n",
    "# res.raise_for_status() # 문제시 프로그램 종료\n",
    "soup = BeautifulSoup(res.text, \"lxml\") \n",
    "\n",
    "\n",
    "tds= soup.find_all('td', attrs={'class': 'nfo'})\n",
    "\n",
    "\n",
    "for td in tds:\n",
    "    if 'weight' in str(td) :\n",
    "        td = td.text\n",
    "        w = td.split('g')[0].strip()\n",
    "    \n",
    "    elif 'price' in str(td) :\n",
    "        td = td.text \n",
    "        p = td.split()[1]\n",
    "        \n",
    "        if 'About' in td :\n",
    "            p2 = td.split()[2]           \n",
    "        \n",
    "        # if '$' in td :\n",
    "        #     p = td.split()[1]\n",
    "            \n",
    "        # elif '€' in td :\n",
    "        #     p = td.split()[1]\n",
    "            \n",
    "        # elif 'About' in td :\n",
    "        #     p = td.split()[1]\n",
    "            \n",
    "        # else :\n",
    "        #     p = td.split()\n",
    "            \n",
    "print(f'w : {w}, p : {p}')\n",
    "\n",
    "# for td in tds :\n",
    "#     if 'weight' in str(td):\n",
    "#         td = td.split('>')[1].split('g')[0].strip()\n",
    "#         print(f'weight : {td}g')\n",
    "#     elif 'price' in str(td) :\n",
    "#         if '$' in str(td) :\n",
    "#            td = td.split('$')[1].split('g')[0].strip() \n",
    "#         print(td)\n",
    "#     else :\n",
    "#         pass\n"
   ]
  }
 ],
 "metadata": {
  "interpreter": {
   "hash": "19a2027c367e4a8fbf50703f7b521df71edff403eb9eba2200ef5f1febf03a5b"
  },
  "kernelspec": {
   "display_name": "Python 3.7.11 64-bit ('exam_cv2': conda)",
   "language": "python",
   "name": "python3"
  },
  "language_info": {
   "codemirror_mode": {
    "name": "ipython",
    "version": 3
   },
   "file_extension": ".py",
   "mimetype": "text/x-python",
   "name": "python",
   "nbconvert_exporter": "python",
   "pygments_lexer": "ipython3",
   "version": "3.8.5"
  },
  "orig_nbformat": 4
 },
 "nbformat": 4,
 "nbformat_minor": 2
}
