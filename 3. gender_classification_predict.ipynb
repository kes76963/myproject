{
 "cells": [
  {
   "cell_type": "markdown",
   "source": [
    "실제 효과가 있을까?"
   ],
   "metadata": {}
  },
  {
   "cell_type": "code",
   "execution_count": 2,
   "source": [
    "from tensorflow.keras.models import *\r\n",
    "import pickle\r\n",
    "from konlpy.tag import Okt, Mecab\r\n",
    "from tensorflow.keras.utils import to_categorical\r\n",
    "from tensorflow.keras.preprocessing.sequence import pad_sequences\r\n",
    "import numpy as np\r\n",
    "\r\n",
    "#모델 로드\r\n",
    "# model = load_model('model/gender_classfication_0.7880811095237732.h5')\r\n",
    "model = load_model('model/gender_classfication_0.763458788394928_kkma.h5')\r\n",
    "# model = load_model('model/gender_classfication_0.7989316582679749_mecab.h5')\r\n",
    "\r\n",
    "with open('model/gender_token_kkma.pickle', 'rb') as f :\r\n",
    "  token = pickle.load(f)\r\n",
    "\r\n",
    "# with open('model/gender_token_mecab.pickle', 'rb') as f :\r\n",
    "#   token = pickle.load(f)\r\n",
    "  \r\n",
    "with open('model/gender_encoder.pickle', 'rb') as f:\r\n",
    "  encoder = pickle.load(f)\r\n",
    "category = encoder.classes_\r\n",
    "print (category)"
   ],
   "outputs": [
    {
     "output_type": "stream",
     "name": "stderr",
     "text": [
      "C:\\Users\\kim\\.conda\\envs\\exam_cv2\\lib\\site-packages\\numpy\\_distributor_init.py:32: UserWarning: loaded more than 1 DLL from .libs:\n",
      "C:\\Users\\kim\\.conda\\envs\\exam_cv2\\lib\\site-packages\\numpy\\.libs\\libopenblas.NOIJJG62EMASZI6NYURL6JBKM4EVBGM7.gfortran-win_amd64.dll\n",
      "C:\\Users\\kim\\.conda\\envs\\exam_cv2\\lib\\site-packages\\numpy\\.libs\\libopenblas.PYQHXLVVQ7VESDPUVUADXEVJOBGHJPAY.gfortran-win_amd64.dll\n",
      "C:\\Users\\kim\\.conda\\envs\\exam_cv2\\lib\\site-packages\\numpy\\.libs\\libopenblas.WCDJNK7YVMPZQ2ME2ZZHJJRJ3JIKNDB7.gfortran-win_amd64.dll\n",
      "  stacklevel=1)\n"
     ]
    },
    {
     "output_type": "stream",
     "name": "stdout",
     "text": [
      "[1 2 3]\n"
     ]
    }
   ],
   "metadata": {}
  },
  {
   "cell_type": "code",
   "execution_count": 1,
   "source": [
    "from konlpy.tag import Mecab\r\n",
    "mecab=Mecab(dicpath='C:/mecab/mecab-ko-dic')\r\n",
    "mecab.morphs('아 더빙 진짜 짜증 나네요 목소리')\r\n",
    "\r\n",
    "# 형태소 단위 : mecab.morphs()\r\n",
    "# 명사 단위    : mecab.nouns()\r\n",
    "# 품사 태깅    : mecab.pos()"
   ],
   "outputs": [
    {
     "output_type": "execute_result",
     "data": {
      "text/plain": [
       "['아', '더', '빙', '진짜', '짜증', '나', '네요', '목소리']"
      ]
     },
     "metadata": {},
     "execution_count": 1
    }
   ],
   "metadata": {}
  },
  {
   "cell_type": "code",
   "execution_count": 19,
   "source": [
    "X = ['은지','민지','민준','가영','지원','마다가스카','졸라맨']\r\n",
    "okt = Okt()\r\n",
    "print(type(X))\r\n",
    "okt_X = okt.morphs(X[1])\r\n",
    "print(X[1])\r\n",
    "print(okt_X)\r\n",
    "\r\n",
    "for i in range(len(X)):\r\n",
    "  X[i] = okt.morphs(X[i])\r\n",
    "print(X)"
   ],
   "outputs": [
    {
     "output_type": "stream",
     "name": "stdout",
     "text": [
      "<class 'list'>\n",
      "민지\n",
      "['민지']\n",
      "[['은지'], ['민지'], ['민준'], ['가', '영'], ['지원'], ['마다가스카'], ['졸라맨']]\n"
     ]
    }
   ],
   "metadata": {}
  },
  {
   "cell_type": "code",
   "execution_count": 14,
   "source": [
    "from konlpy.tag import Kkma\r\n",
    "X = ['리자', '미자', '행자', '춘향', '화자', '채주', '채진', '가람','하랑','하람','하온']\r\n",
    "# X = ['은지','민지','민준','가영','지원','마다가스카','가나다라']\r\n",
    "kkma = Kkma()\r\n",
    "print(type(X))\r\n",
    "kkma_X = kkma.morphs(X[1])\r\n",
    "print(X[1])\r\n",
    "print(kkma_X)\r\n",
    "\r\n",
    "X_morphs = []\r\n",
    "for i in range(len(X)):\r\n",
    "  X_morphs.append(kkma.morphs(X[i]))\r\n",
    "print(X_morphs)"
   ],
   "outputs": [
    {
     "output_type": "stream",
     "name": "stdout",
     "text": [
      "<class 'list'>\n",
      "미자\n",
      "['미', '자']\n",
      "[['리', '자'], ['미', '자'], ['행자'], ['추', 'ㄴ', '향'], ['화자'], ['채주'], ['채', '진'], ['가람'], ['하', '랑'], ['하', '람'], ['하', '온']]\n"
     ]
    }
   ],
   "metadata": {}
  },
  {
   "cell_type": "code",
   "execution_count": 36,
   "source": [
    "X = ['은지','민지','민준','가영','지원','마다가스카','가나다라']\r\n",
    "\r\n",
    "mecab=Mecab(dicpath='C:/mecab/mecab-ko-dic')\r\n",
    "print(type(X))\r\n",
    "mecab_X = mecab.morphs(X[1])\r\n",
    "print(X[1])\r\n",
    "print(mecab_X)\r\n",
    "\r\n",
    "for i in range(len(X)):\r\n",
    "  X[i] = mecab.morphs(X[i])\r\n",
    "print(X)"
   ],
   "outputs": [
    {
     "output_type": "stream",
     "name": "stdout",
     "text": [
      "<class 'list'>\n",
      "민지\n",
      "['민지']\n",
      "[['은지'], ['민지'], ['민준'], ['가영'], ['지원'], ['마다가스카'], ['가나다', '라']]\n"
     ]
    }
   ],
   "metadata": {}
  },
  {
   "cell_type": "code",
   "execution_count": 37,
   "source": [
    "X = ['리자', '미자', '행자', '춘향', '화자', '채주', '채진', '가람','하랑','하람','하온']\r\n",
    "mecab=Mecab(dicpath='C:/mecab/mecab-ko-dic')\r\n",
    "print(type(X))\r\n",
    "mecab_X = mecab.morphs(X[1])\r\n",
    "print(X[1])\r\n",
    "print(mecab_X)\r\n",
    "\r\n",
    "for i in range(len(X)):\r\n",
    "  X[i] = mecab.morphs(X[i])\r\n",
    "print(X)"
   ],
   "outputs": [
    {
     "output_type": "stream",
     "name": "stdout",
     "text": [
      "<class 'list'>\n",
      "미자\n",
      "['미자']\n",
      "[['리자'], ['미자'], ['행자'], ['춘향'], ['화자'], ['채주'], ['채진'], ['가람'], ['하랑'], ['하람'], ['하', '온']]\n"
     ]
    }
   ],
   "metadata": {}
  },
  {
   "cell_type": "code",
   "execution_count": 4,
   "source": [
    "tokened_X = token.texts_to_sequences(X)\r\n",
    "# print(tokened_X[0])\r\n",
    "\r\n",
    "X_pad = pad_sequences(tokened_X, 14)\r\n",
    "# print(X_pad[:10])\r\n",
    "\r\n",
    "predict = model.predict(X_pad)\r\n",
    "for i in range(len(X)) :\r\n",
    "    print(predict[i])\r\n",
    "\r\n",
    "#가장 확률값이 큰 클래스\r\n",
    "result = np.argmax(predict[4])\r\n",
    "# print(category[result])\r\n",
    "\r\n",
    "\r\n",
    "# 지원의 경우 남자 : 여자 = 4 : 6 비율인데 너무 높게 평가함\r\n",
    "# kkma 0.77 / mecab 0.65\r\n",
    "# 남녀 비율이 비슷할 때, 중성적일 확률이 높아짐 (10퍼센트 이상)\r\n",
    "\r\n",
    "# X = ['리자', '미자', '행자', '춘향', '화자', '채주', '채진', '가람','하랑','하람','하온']\r\n"
   ],
   "outputs": [
    {
     "output_type": "stream",
     "name": "stdout",
     "text": [
      "[0.015673   0.98222995 0.00209707]\n",
      "[0.02595359 0.97191894 0.00212749]\n",
      "[0.08206727 0.82945734 0.08847538]\n",
      "[0.03708567 0.954908   0.00800628]\n",
      "[0.45388478 0.3897056  0.1564096 ]\n",
      "[0.40891418 0.41157192 0.17951393]\n",
      "[0.2636865  0.6670584  0.06925506]\n",
      "[0.5184662  0.3555434  0.12599047]\n",
      "[0.2853556  0.6219586  0.09268581]\n",
      "[0.67864215 0.22956985 0.09178805]\n",
      "[0.62387043 0.27893582 0.09719376]\n"
     ]
    }
   ],
   "metadata": {}
  },
  {
   "cell_type": "code",
   "execution_count": 9,
   "source": [
    "predict_gender = []\r\n",
    "for pred in predict :\r\n",
    "  predict_gender.append(category[np.argmax(pred)])\r\n",
    "  \r\n",
    "print(predict_gender)\r\n",
    "\r\n",
    "#X = ['리자', '미자', '행자', '춘향', '화자', '채주', '채진', '가람','하랑','하람','하온']\r\n"
   ],
   "outputs": [
    {
     "output_type": "stream",
     "name": "stdout",
     "text": [
      "[2, 2, 2, 2, 1, 2, 2, 1, 2, 1, 1]\n"
     ]
    }
   ],
   "metadata": {}
  },
  {
   "cell_type": "code",
   "execution_count": 22,
   "source": [
    "#print(predict)\r\n",
    "gender_list = ['남성','여성','중성']\r\n",
    "\r\n",
    "for i in range(len(predict)):\r\n",
    "    \r\n",
    "    percent = np.argmax(predict[i]) # 가장 큰 값\r\n",
    "    gender = category[percent]\r\n",
    "    g_percent = predict[i][percent] * 100\r\n",
    "    sex = gender_list[percent]\r\n",
    "    \r\n",
    "    #중성적일 경우\r\n",
    "    if predict[i][2] > 0.10:\r\n",
    "        if abs(predict[i][0] - predict[i][1]) < 0.10 : #철대값 차이\r\n",
    "            print(f'{X[i]} : 중성적인 이름입니다')\r\n",
    "        else :\r\n",
    "            print(f'{X[i]} : 중성적이나 {sex}일 확률이 조금 높습니다.')\r\n",
    "    \r\n",
    "    #성별이 확실할 경우\r\n",
    "    else :\r\n",
    "        print(X[i], f': {g_percent:.1f}%로 {sex}입니다.')\r\n",
    "        \r\n",
    "    \r\n",
    "    \r\n"
   ],
   "outputs": [
    {
     "output_type": "stream",
     "name": "stdout",
     "text": [
      "리자 : 98.2%로 여성입니다.\n",
      "미자 : 97.2%로 여성입니다.\n",
      "행자 : 82.9%로 여성입니다.\n",
      "춘향 : 95.5%로 여성입니다.\n",
      "화자 : 중성적인 이름입니다\n",
      "채주 : 중성적인 이름입니다\n",
      "채진 : 66.7%로 여성입니다.\n",
      "가람 : 중성적이나 남성일 확률이 조금 높습니다.\n",
      "하랑 : 62.2%로 여성입니다.\n",
      "하람 : 67.9%로 남성입니다.\n",
      "하온 : 62.4%로 남성입니다.\n"
     ]
    }
   ],
   "metadata": {}
  }
 ],
 "metadata": {
  "orig_nbformat": 4,
  "language_info": {
   "name": "python",
   "version": "3.7.10",
   "mimetype": "text/x-python",
   "codemirror_mode": {
    "name": "ipython",
    "version": 3
   },
   "pygments_lexer": "ipython3",
   "nbconvert_exporter": "python",
   "file_extension": ".py"
  },
  "kernelspec": {
   "name": "python3",
   "display_name": "Python 3.7.10 64-bit ('exam_cv2': conda)"
  },
  "interpreter": {
   "hash": "19a2027c367e4a8fbf50703f7b521df71edff403eb9eba2200ef5f1febf03a5b"
  }
 },
 "nbformat": 4,
 "nbformat_minor": 2
}