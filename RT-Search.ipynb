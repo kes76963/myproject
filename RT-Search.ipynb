{
 "cells": [
  {
   "cell_type": "code",
   "execution_count": 7,
   "metadata": {},
   "outputs": [
    {
     "name": "stdout",
     "output_type": "stream",
     "text": [
      "곽윤기\n",
      "우크라이나\n",
      "롤챔스 4주차\n",
      "뱀파이어 서바이버\n",
      "스켈레톤\n",
      "차민규\n",
      "개리형 갑질 논란\n",
      "프로미스나인\n",
      "차준환\n",
      "김연아\n"
     ]
    }
   ],
   "source": [
    "from selenium import webdriver\n",
    "from selenium.webdriver.chrome.options import Options\n",
    "import time\n",
    "\n",
    "\n",
    "chrome_options = Options()\n",
    "# chrome_options.headless = True\n",
    "chrome_options.add_argument('--profile-directory=Default')\n",
    "chrome_options.add_argument(\"--incognito\")\n",
    "chrome_options.add_argument(\"--disable-plugins-discovery\")\n",
    "driver = webdriver.Chrome(options=chrome_options)\n",
    "driver.maximize_window() \n",
    "\n",
    "url = 'https://namu.wiki/w/%EB%82%98%EB%AC%B4%EC%9C%84%ED%82%A4:%EB%8C%80%EB%AC%B8'\n",
    "driver.get(url)\n",
    "\n",
    "time.sleep(2)\n",
    "\n",
    "driver.find_element_by_xpath('//*[@id=\"jWQTV4TJi\"]/input').click()\n",
    "time.sleep(2)\n",
    "\n",
    "text = driver.find_element_by_xpath('//*[@id=\"lYESF0HOg\"]').text\n",
    "\n",
    "print(text)\n"
   ]
  }
 ],
 "metadata": {
  "interpreter": {
   "hash": "19a2027c367e4a8fbf50703f7b521df71edff403eb9eba2200ef5f1febf03a5b"
  },
  "kernelspec": {
   "display_name": "Python 3.7.11 ('exam_cv2')",
   "language": "python",
   "name": "python3"
  },
  "language_info": {
   "codemirror_mode": {
    "name": "ipython",
    "version": 3
   },
   "file_extension": ".py",
   "mimetype": "text/x-python",
   "name": "python",
   "nbconvert_exporter": "python",
   "pygments_lexer": "ipython3",
   "version": "3.8.5"
  },
  "orig_nbformat": 4
 },
 "nbformat": 4,
 "nbformat_minor": 2
}
