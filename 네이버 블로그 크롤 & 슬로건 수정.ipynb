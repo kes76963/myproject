{
 "cells": [
  {
   "cell_type": "code",
   "execution_count": 1,
   "metadata": {},
   "outputs": [],
   "source": [
    "from bs4 import BeautifulSoup\n",
    "import pandas as pd\n",
    "import requests\n",
    "import re"
   ]
  },
  {
   "cell_type": "code",
   "execution_count": 109,
   "metadata": {},
   "outputs": [
    {
     "name": "stdout",
     "output_type": "stream",
     "text": [
      "63\n"
     ]
    }
   ],
   "source": [
    "#블로그 url 크롤링\n",
    "url_list = []\n",
    "for i in range(1,8) :\n",
    "    url2 = f'https://blog.naver.com/PostSearchList.naver?blogId=jjong0496&categoryNo=0&SearchText=%EA%B5%AD%EB%82%B4+%EA%B4%91%EA%B3%A0+%EC%B9%B4%ED%94%BC+%EB%AA%A8%EC%9D%8C&orderBy=date&term=&startDate=&endDate=&range=all&cpage={i}'\n",
    "\n",
    "    headers = {\"User-Agent\":\"Mozilla/5.0 (Windows NT 10.0; Win64; x64) AppleWebKit/537.36 (KHTML, like Gecko) Chrome/90.0.4430.93 Safari/537.36\"}\n",
    "    res = requests.get(url2, headers=headers)\n",
    "    res.raise_for_status() # 문제시 프로그램 종료\n",
    "    soup = BeautifulSoup(res.text, \"lxml\") \n",
    "\n",
    "    links = soup.select('a.s_link')\n",
    "\n",
    "    for l in links :\n",
    "        link = l.get('href')\n",
    "        url_list.append(link)\n",
    "print(len(url_list))\n"
   ]
  },
  {
   "cell_type": "code",
   "execution_count": 2,
   "metadata": {},
   "outputs": [],
   "source": [
    "#네이버 블로그 iframe 제거 함수\n",
    "def delete_iframe(url):\n",
    "    headers = {\"User-Agent\":\"Mozilla/5.0 (Windows NT 10.0; Win64; x64) AppleWebKit/537.36 (KHTML, like Gecko) Chrome/90.0.4430.93 Safari/537.36\"}\n",
    "    res = requests.get(url, headers=headers)\n",
    "    res.raise_for_status() # 문제시 프로그램 종료\n",
    "    soup = BeautifulSoup(res.text, \"lxml\") \n",
    "\n",
    "    src_url = \"https://blog.naver.com/\" + soup.iframe[\"src\"] #iframe 안에 있는 src 부분을 가져옴\n",
    "    \n",
    "    return src_url"
   ]
  },
  {
   "cell_type": "code",
   "execution_count": 3,
   "metadata": {},
   "outputs": [],
   "source": [
    "#네이버 블로그 글 크롤링 함수\n",
    "def text_scraping(url):\n",
    "    headers = {\"User-Agent\":\"Mozilla/5.0 (Windows NT 10.0; Win64; x64) AppleWebKit/537.36 (KHTML, like Gecko) Chrome/90.0.4430.93 Safari/537.36\"}\n",
    "    res = requests.get(url, headers=headers)\n",
    "    res.raise_for_status() # 문제시 프로그램 종료\n",
    "    soup = BeautifulSoup(res.text, \"lxml\") \n",
    "    \n",
    "    if soup.select_one('div.se-main-container'):\n",
    "        text = soup.select_one('div.se-main-container').text\n",
    "        text = text.replace('\\n','')\n",
    "        #print(\"블로그\")\n",
    "        return text\n",
    "    elif soup.select_one('div#postViewArea'):\n",
    "        text = soup.select_one('div#postViewArea').text\n",
    "        #text = text.replace('\\n','')\n",
    "        #print('블로그 2.0')\n",
    "        return text\n",
    "    else:\n",
    "        return \"확인불가\""
   ]
  },
  {
   "cell_type": "code",
   "execution_count": 182,
   "metadata": {
    "scrolled": true
   },
   "outputs": [
    {
     "name": "stdout",
     "output_type": "stream",
     "text": [
      "###############################################################완료\n"
     ]
    }
   ],
   "source": [
    "#네이버 블로그 글 크롤링 \n",
    "import requests\n",
    "import re #추가\n",
    "from bs4 import BeautifulSoup\n",
    "from urllib.parse import quote\n",
    "\n",
    "blog_list =[]\n",
    "for i in url_list :\n",
    "    post_link = i\n",
    "    blog_text = text_scraping(delete_iframe(post_link))\n",
    "    blog_list.append(blog_text)\n",
    "    print('#',end='')\n",
    "print('완료')\n"
   ]
  },
  {
   "cell_type": "code",
   "execution_count": 8,
   "metadata": {},
   "outputs": [],
   "source": [
    "import re\n",
    "\n",
    "def preprocess_sentence_kr(w):\n",
    "    w = w.strip()\n",
    "    w = re.sub(r\"[^0-9가-힣?.!,¿]+\", \" \", w) # \\n도 공백으로 대체해줌\n",
    "    w = w.strip()\n",
    "    return w"
   ]
  },
  {
   "cell_type": "code",
   "execution_count": 19,
   "metadata": {},
   "outputs": [
    {
     "data": {
      "text/plain": [
       "'abcdef가나다라마바사12345'"
      ]
     },
     "execution_count": 19,
     "metadata": {},
     "output_type": "execute_result"
    }
   ],
   "source": [
    "string = \"abcdefㄱㄴㄷㄹㅁㅂ가나다라마바사12345[]{}().,!?'`~;:\" \n",
    "re.sub('[^A-Za-z0-9가-힣]', '', string)\n",
    "\n"
   ]
  },
  {
   "cell_type": "code",
   "execution_count": 209,
   "metadata": {
    "scrolled": false
   },
   "outputs": [
    {
     "name": "stdout",
     "output_type": "stream",
     "text": [
      "0,1,2,3,4,5,6,7,8,9,10,11,12,13,14,15,16,17,18,19,20,21,22,23,24,25,26,27,28,29,30,31,32,33,34,35,36,37,38,39,40,41,42,43,44,45,46,47,인덱싱 오류/48,49,50,51,52,53,54,55,56,57,58,59,카테고리 오류/60,61,카테고리 오류/62,나누기 완료\n",
      "<class 'pandas.core.frame.DataFrame'>\n",
      "RangeIndex: 11053 entries, 0 to 11052\n",
      "Data columns (total 3 columns):\n",
      " #   Column    Non-Null Count  Dtype \n",
      "---  ------    --------------  ----- \n",
      " 0   company   11053 non-null  object\n",
      " 1   copy      11053 non-null  object\n",
      " 2   category  11053 non-null  object\n",
      "dtypes: object(3)\n",
      "memory usage: 259.2+ KB\n",
      "저장 완료\n"
     ]
    }
   ],
   "source": [
    "#회사, 문구, 카테고리 나누기\n",
    "cnt = 0\n",
    "copy_list =[]\n",
    "company_list = []\n",
    "category_list = []\n",
    "for b in blog_list :\n",
    "    print(cnt,end=',')\n",
    "        \n",
    "    text = b.split('<')\n",
    "    text.pop(0) #처음 공백 제거\n",
    "\n",
    "\n",
    "\n",
    "    for i in text : #카테고리 분류\n",
    "        try :\n",
    "            i = i.split('>')\n",
    "            category = i[0]\n",
    "            #print(category)\n",
    "            copy_ = i[1].split(')')\n",
    "            copy_.pop(len(copy_)-1) #마지막 공백 제거\n",
    "        except :\n",
    "            print('카테고리 오류',end='/')\n",
    "            continue\n",
    "\n",
    "\n",
    "        for j in copy_ : #copy 분류\n",
    "            try :\n",
    "                j= j.split('(')\n",
    "                #print(j)\n",
    "                copy = j[0]\n",
    "                company = j[1]\n",
    "                \n",
    "                copy_list.append(copy)\n",
    "                company_list.append(company)\n",
    "                category_list.append(category)\n",
    "            except : \n",
    "                print('인덱싱 오류',end='/')\n",
    "\n",
    "\n",
    "    cnt += 1\n",
    "print('나누기 완료')\n",
    "df = pd.DataFrame({'company': company_list, 'copy' : copy_list, 'category' : category_list})\n",
    "df.info()\n",
    "df.to_csv('company_and_copy2.csv',encoding='utf-8-sig')\n",
    "print('저장 완료')\n",
    "        \n",
    "        \n",
    "    "
   ]
  },
  {
   "cell_type": "code",
   "execution_count": 38,
   "metadata": {
    "scrolled": false
   },
   "outputs": [
    {
     "name": "stdout",
     "output_type": "stream",
     "text": [
      "<class 'pandas.core.frame.DataFrame'>\n",
      "RangeIndex: 1729 entries, 0 to 1728\n",
      "Data columns (total 3 columns):\n",
      " #   Column    Non-Null Count  Dtype \n",
      "---  ------    --------------  ----- \n",
      " 0   company   1729 non-null   object\n",
      " 1   copy      1729 non-null   object\n",
      " 2   category  1729 non-null   object\n",
      "dtypes: object(3)\n",
      "memory usage: 40.6+ KB\n"
     ]
    },
    {
     "data": {
      "text/plain": [
       "<bound method NDFrame.head of                       company                     copy category\n",
       "0         T’ESTIMO(가네보) 화장/세제            입술 글래머 LOOK!     화장/세제\n",
       "1             노드(꽃을든남자) 화장/세제           피부만큼은 남자가 아니다     화장/세제\n",
       "2      에뛰드 스타일 립스 아쿠아톡스 화장/세제               몰래몰래,입술水술     화장/세제\n",
       "3        에뛰느 플라워 틴트 아이즈 화장/세제            사르르 꽃으로 물들이다     화장/세제\n",
       "4              A.C.CARE 화장/세제    뾰루퉁한 피부, 과학으로 다독거리자!     화장/세제\n",
       "...                       ...                      ...      ...\n",
       "1724                    틱톡 기타    누구나 15초만에 스타가 될 수 있다        기타\n",
       "1725                캐시슬라이드 기타            즐거운 적립생활의 시작        기타\n",
       "1726                 스브스뉴스 기타            뉴스에는 위아래가 없다        기타\n",
       "1727         홈플러스 신선 A/S센터 기타  1% 맘에 안 들어도 100% 교환,환불        기타\n",
       "1728                 보건복지부 기타      우리는 지금 담배와의 전쟁중입니다        기타\n",
       "\n",
       "[1729 rows x 3 columns]>"
      ]
     },
     "execution_count": 38,
     "metadata": {},
     "output_type": "execute_result"
    }
   ],
   "source": [
    "#슬로건 나누기\n",
    "df = pd.read_csv('slogan_2.csv', index_col= None)\n",
    "df.info()\n",
    "df.head"
   ]
  },
  {
   "cell_type": "code",
   "execution_count": 36,
   "metadata": {},
   "outputs": [],
   "source": [
    "company = []\n",
    "slogans = []\n",
    "for slogan in df.slogan :\n",
    "    slogan = slogan.replace(')','')\n",
    "    slogan = slogan.split('(')\n",
    "    slogans.append(slogan[0])\n",
    "    company.append(slogan.pop(-1))\n",
    "\n",
    "df2 = pd.DataFrame({'company': company, 'copy' : slogans, 'category' : df.category})"
   ]
  },
  {
   "cell_type": "code",
   "execution_count": 37,
   "metadata": {},
   "outputs": [],
   "source": [
    "df2.to_csv('slogan_200.csv',encoding='utf-8-sig')"
   ]
  },
  {
   "cell_type": "code",
   "execution_count": null,
   "metadata": {},
   "outputs": [],
   "source": [
    "#오류가 날 경우 확인 코드"
   ]
  },
  {
   "cell_type": "code",
   "execution_count": 206,
   "metadata": {},
   "outputs": [],
   "source": []
  },
  {
   "cell_type": "code",
   "execution_count": 195,
   "metadata": {},
   "outputs": [
    {
     "name": "stdout",
     "output_type": "stream",
     "text": [
      "https://blog.naver.com/jjong0496?Redirect=Log&logNo=220776655881&from=postView\n"
     ]
    }
   ],
   "source": [
    "print(url_list[59])"
   ]
  },
  {
   "cell_type": "code",
   "execution_count": 196,
   "metadata": {},
   "outputs": [
    {
     "name": "stdout",
     "output_type": "stream",
     "text": [
      "['당신의 일주일은 할인으로 꽉 차야하니까요 ', '요기요']\n",
      "['푸드득, 푸드를 득템하다 ', '동원몰']\n",
      "['모바일 동영상의 신세계 ', '옥수수']\n",
      "['디자인도 가격도 더 가볍게, 기본에 집중하다 ', 'LG X스킨']\n",
      "['골라 골라 마음껏 골라 ', 'SBS고릴라팟']\n",
      "['스크린의 감동을 가볍게 테이크아웃하다 ', 'LG X5']\n",
      "['EVERYDAY ', '요기요']\n",
      "['쇼핑이 생각날 땐, 어서옥션 ', '옥션']\n",
      "['Simple Secure Virtually anywhere ', '삼성페이']\n",
      "['여행을 다담다 ', 'g마켓']\n",
      "['실감나게 재밌다 ', 'KT기가 IOT헬스']\n",
      "['모든길은 T-MAP으로 통한다 ', 'T맵']\n",
      "['우리, 살고 싶은 데서 살자 ', '다방']\n",
      "['대한민국 넘버원 골프양말 ', '렉시']\n",
      "['완벽은 없다 ', '리복 우먼스']\n",
      "['SURPRICE JELLY, ICE JELLY ', '젤리벨리']\n",
      "[' 가슴이 뚜껑뚜껑 ', '왕뚜껑']\n",
      "['볶음 진짬뽕 외에는 절대 현혹되지마소 ', '볶음진짬뽕']\n",
      "['특별한 커피는 파티를 부른다 ', '엔제리너스커피 아메리치노']\n",
      "['월 화 수 목 금 토 일 식사하세요! ', '햇반컵반']\n",
      "['황홀한 맛의 놀라움 ', '하겐다즈 초콜렛초코 아몬드']\n",
      "['꽉꽉채워 딜리셔스 ', 'KFC매직박스']\n",
      "['맛있는 피자는 작은 차이로부터 ', '피자헛']\n",
      "['럭셔리 세단버거 ', '롯데리아 아재버거']\n",
      "['라틴의 맛을 만나다 ', '맥도날드 리우1955버거']\n",
      "['살아있는 유산균을 즐기는 새로운 방법 ', '요하이 유산균샌드']\n",
      "['맛있게 쫄~깃 ', '젤리밥']\n",
      "['유럽풍 퓨전 비빔면 ', '드레싱누들']\n",
      "['시원한 가격으로 더위를 가격하라 ', '롯데리아 빙수']\n",
      "['맛칼난다! ', '풀무원 육칼']\n",
      "['보험은 그 시대의 목소리를 들어야 합니다 ', '메트라이프생명']\n",
      "['오늘, 가장 푸르를 당신의 청춘을 위해 ', 'MG새마을금고']\n",
      "['포인트도 자산이다 ', '신한카드 판 클럽']\n",
      "['투명하게 시원하다 ', '사이다']\n",
      "['필요할 때, 당신곁에 ', '산와머니']\n",
      "['국민의 평생 금융파트너 ', 'KB금융그룹']\n",
      "['차보다 사람이 먼저니까 ', '동부화재 다이렉트']\n",
      "['시트가 바뀌면 마스크팩의 차원이 달라지니까 ', '예지미인 마스크팩']\n",
      "['네가 내 운명을 바꿨어 ', 'SK-II 피테라 에센스']\n",
      "['꽃의 힘을 너에게 ', '마몽드']\n",
      "['한국 자연이 전하는 피부율 ', '한율']\n",
      "['함부로 당신을 사랑합니다 ', '류케이웨이브']\n",
      "['함부로 예뻐지는 쿠션 ', '더페이스샵쿠션']\n",
      "['이거 말고 뭐가 더 필요 있어 ', '에끌라두 셀매직 스킨로션옴므']\n",
      "['수분, 골고루 먹어야 하루종일 촉촉 ', '클라우드나인 올얼라이브모이스쳐']\n",
      "['눈으로 말해요 ', '클라렌']\n",
      "['LOVE REAL YOU ', 'AHC']\n",
      "['난 자는동안 폭잠 에센스로 더 환해진다 ', '바닐라코 슬리핑에센스']\n"
     ]
    },
    {
     "ename": "IndexError",
     "evalue": "list index out of range",
     "output_type": "error",
     "traceback": [
      "\u001b[1;31m---------------------------------------------------------------------------\u001b[0m",
      "\u001b[1;31mIndexError\u001b[0m                                Traceback (most recent call last)",
      "\u001b[1;32m<ipython-input-196-bd37f660f1f0>\u001b[0m in \u001b[0;36m<module>\u001b[1;34m\u001b[0m\n\u001b[0;32m     10\u001b[0m     \u001b[0mcategory\u001b[0m \u001b[1;33m=\u001b[0m \u001b[0mi\u001b[0m\u001b[1;33m[\u001b[0m\u001b[1;36m0\u001b[0m\u001b[1;33m]\u001b[0m\u001b[1;33m\u001b[0m\u001b[1;33m\u001b[0m\u001b[0m\n\u001b[0;32m     11\u001b[0m     \u001b[1;31m#print(category)\u001b[0m\u001b[1;33m\u001b[0m\u001b[1;33m\u001b[0m\u001b[1;33m\u001b[0m\u001b[0m\n\u001b[1;32m---> 12\u001b[1;33m     \u001b[0mcopy_\u001b[0m \u001b[1;33m=\u001b[0m \u001b[0mi\u001b[0m\u001b[1;33m[\u001b[0m\u001b[1;36m1\u001b[0m\u001b[1;33m]\u001b[0m\u001b[1;33m.\u001b[0m\u001b[0msplit\u001b[0m\u001b[1;33m(\u001b[0m\u001b[1;34m')'\u001b[0m\u001b[1;33m)\u001b[0m\u001b[1;33m\u001b[0m\u001b[1;33m\u001b[0m\u001b[0m\n\u001b[0m\u001b[0;32m     13\u001b[0m     \u001b[0mcopy_\u001b[0m\u001b[1;33m.\u001b[0m\u001b[0mpop\u001b[0m\u001b[1;33m(\u001b[0m\u001b[0mlen\u001b[0m\u001b[1;33m(\u001b[0m\u001b[0mcopy_\u001b[0m\u001b[1;33m)\u001b[0m\u001b[1;33m-\u001b[0m\u001b[1;36m1\u001b[0m\u001b[1;33m)\u001b[0m \u001b[1;31m#마지막 공백 제거\u001b[0m\u001b[1;33m\u001b[0m\u001b[1;33m\u001b[0m\u001b[0m\n\u001b[0;32m     14\u001b[0m     \u001b[1;31m#print(copy_)\u001b[0m\u001b[1;33m\u001b[0m\u001b[1;33m\u001b[0m\u001b[1;33m\u001b[0m\u001b[0m\n",
      "\u001b[1;31mIndexError\u001b[0m: list index out of range"
     ]
    }
   ],
   "source": [
    "text = blog_list[59].split('<')\n",
    "text.pop(0) #처음 공백 제거\n",
    "\n",
    "copy_list =[]\n",
    "company_list = []\n",
    "category_list = []\n",
    "\n",
    "for i in text : #카테고리 분류\n",
    "    i = i.split('>')\n",
    "    category = i[0]\n",
    "    #print(category)\n",
    "    copy_ = i[1].split(')')\n",
    "    copy_.pop(len(copy_)-1) #마지막 공백 제거\n",
    "    #print(copy_)    \n",
    "\n",
    "    for j in copy_ : #copy 분류\n",
    "        try :\n",
    "            j= j.split('(')\n",
    "            print(j)\n",
    "            copy = j[0]\n",
    "            company = j[1]\n",
    "        except : \n",
    "            continue\n",
    "\n",
    "        copy_list.append(copy)\n",
    "        company_list.append(company)\n",
    "        category_list.append(category)"
   ]
  }
 ],
 "metadata": {
  "kernelspec": {
   "display_name": "Python 3",
   "language": "python",
   "name": "python3"
  },
  "language_info": {
   "codemirror_mode": {
    "name": "ipython",
    "version": 3
   },
   "file_extension": ".py",
   "mimetype": "text/x-python",
   "name": "python",
   "nbconvert_exporter": "python",
   "pygments_lexer": "ipython3",
   "version": "3.8.5"
  },
  "toc": {
   "base_numbering": 1,
   "nav_menu": {},
   "number_sections": true,
   "sideBar": true,
   "skip_h1_title": false,
   "title_cell": "Table of Contents",
   "title_sidebar": "Contents",
   "toc_cell": false,
   "toc_position": {},
   "toc_section_display": true,
   "toc_window_display": false
  }
 },
 "nbformat": 4,
 "nbformat_minor": 4
}
