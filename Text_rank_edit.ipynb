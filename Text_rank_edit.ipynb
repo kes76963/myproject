{
 "cells": [
  {
   "cell_type": "code",
   "execution_count": null,
   "source": [
    "\"\"\"\r\n",
    "할 것\r\n",
    "-newspaper 모듈 성능 확인 \r\n",
    "=> 뉴스, 티스토리 크롤링으로 사용가능\r\n",
    "\r\n",
    "-textrank 와 sentence transformer 차이가 얼마나 클지? \r\n",
    "=> textrank는 pagerank 기반이라 유사도가 아닌 중요도로 나눔\r\n",
    "\r\n",
    "-문장 나누기\r\n",
    "=> 꼬꼬마 문장 나누기도 있지만 원본이 유지가 안 됨. re.split이 나음\r\n",
    "\r\n",
    "-문장 요약 (추출)\r\n",
    "2~3개 모델\r\n",
    "\r\n",
    "-문장 요약 (추상적)\r\n",
    "gpt2 사용 오류\r\n",
    "\r\n",
    "참고 : https://excelsior-cjh.tistory.com/93\r\n",
    "https://lab.hanium.or.kr/20_hf103/main/commit/2006eb78e32ed5049f14de2e6471885eaab2c2e0\r\n",
    "\"\"\""
   ],
   "outputs": [],
   "metadata": {}
  },
  {
   "cell_type": "code",
   "execution_count": 32,
   "source": [
    "from newspaper import Article\r\n",
    "url1 = 'https://www.khan.co.kr/local/local-general/article/202108301030001'\r\n",
    "url2 = 'https://news.naver.com/main/read.naver?mode=LSD&mid=shm&sid1=102&oid=032&aid=0003094928'\r\n",
    "\r\n",
    "a = Article(url1, language = 'ko')\r\n",
    "b = Article(url2, language = 'ko')\r\n",
    "\r\n",
    "a.download()\r\n",
    "a.parse()\r\n",
    "print(a.title)\r\n",
    "# print(a.text)\r\n",
    "\r\n",
    "b.download()\r\n",
    "b.parse()\r\n",
    "b.nlp()\r\n",
    "print(b.title)\r\n",
    "print(b.keywords)\r\n",
    "print(b.summary)\r\n",
    "# print(b.text)"
   ],
   "outputs": [
    {
     "output_type": "stream",
     "name": "stdout",
     "text": [
      "국민지원금, 다음달 6일부터 신청, 7일부터 지급 시작···1인가구는 건보료 17만원 기준\n",
      "국민지원금, 다음달 6일부터 신청, 7일부터 지급 시작···1인가구는 건보료 17만원 기준\n",
      "['다음달', '건보료', '지급', '가구는', '등', '기준', '시작1인가구는', '7일부터', '수', '시군', '국민지원금', '지역사랑상품권', '경우', '6일부터', '및', '가구로', '맞벌이', '17만원', '신청']\n",
      "3인 가구는 직장과 지역가입자 각각 25만원과 28만원, 4인 가구는 각각 31만원과 35만원 이하다.정부는 1인 가구와 맞벌이 가구는 가구별 특성을 고려해 특례를 적용한 수치라고 설명했다.\n",
      "이는 건보료 본인부담금 기준으로 보면 직장 가입자 14만3900원 이하, 지역 가입자 13만6300원 이하다.가구 내 소득원이 2인 이상인 맞벌이 가구는 가구원 수를 1명 추가한 선정기준표를 적용한다.\n",
      "예를 들어 2인 맞벌이 가구는 3인가구와 동일한 건보료 기준액을 적용하게 된다.정부는 건강보험료 기준을 충족하더라도, 고액의 자산을 보유한 경우에는 지원대상에서 제외한다고 밝혔다.\n",
      "국민지원금 지급 대상자는 신용카드 및 체크카드 충전, 지역사랑상품권, 선불카드 중 선택해 신청할 수 있다.국민지원금 충전이 가능한 카드사는 롯데·비씨·삼성·신한·우리·하나·현대·KB국민·NH농협(씨티 제외) 등이다.\n",
      "카카오뱅크(체크카드)와 카카오페이(페이머니카드)는 앱에서 지원금 신청이 가능하다.국민지원금 지역사랑상품권 신청이 가능한 주요 앱은 제로페이(서울시, 경남 일부 시·군 등), 경기지역화폐(경기), 지역상품권 chak(충북·충남·전남·경북 일부 시·군 등), 그리고-코나아이(강원 일부 시·군 등), 고향사랑페이(전북 일부 시·군 등), 동백전(부산시), 인천e음(인천시), 여민전(세종시), 온통대전(대전시), 울산페이(울산시), 탐나는전(제주도) 등이다.다음달 13일부터는 주소지를 관할하는 읍면동 주민센터에 방문 신청도 가능하다.\n"
     ]
    }
   ],
   "metadata": {}
  },
  {
   "cell_type": "code",
   "execution_count": 26,
   "source": [
    "# 영어 newspaper의 경우 더 다양한 항목 확인 가능\r\n",
    "url = 'https://edition.cnn.com/2021/08/29/asia/afghanistan-kabul-evacuation-intl/index.html'\r\n",
    "\r\n",
    "a = Article(url)\r\n",
    "\r\n",
    "a.download()\r\n",
    "a.parse()\r\n",
    "a.authors\r\n",
    "a.publish_date\r\n",
    "a.top_image\r\n",
    "\r\n",
    "# a.nlp()\r\n",
    "# a.keywords\r\n",
    "# a.summary"
   ],
   "outputs": [
    {
     "output_type": "execute_result",
     "data": {
      "text/plain": [
       "'https://cdn.cnn.com/cnnnext/dam/assets/210829100908-restricted-kabul-afghanistan-smoke-08-29-2021-super-tease.jpg'"
      ]
     },
     "metadata": {},
     "execution_count": 26
    }
   ],
   "metadata": {}
  },
  {
   "cell_type": "code",
   "execution_count": 40,
   "source": [
    "url = 'https://filebst.tistory.com/49'\r\n",
    "a = Article(url)\r\n",
    "\r\n",
    "a.download()\r\n",
    "a.parse()\r\n",
    "print(a.text[:100])\r\n",
    "# a.title"
   ],
   "outputs": [
    {
     "output_type": "stream",
     "name": "stdout",
     "text": [
      "반응형\n",
      "\n",
      "4차 재난지원금 대상자인 소상공인들에게 월요일(29일)을 기해 소상공인과 특수형태 근로종사자(특고) , 프리랜서 등을 대상으로 최대 500만 원에 달하는 4차 재난지원금 \n"
     ]
    }
   ],
   "metadata": {}
  },
  {
   "cell_type": "code",
   "execution_count": 7,
   "source": [
    "# 외국어 요약 & 키워드\r\n",
    "# https://github.com/summanlp/textrank \r\n",
    "# language : arabic, danish, dutch, english, finnish, french, german, hungarian, italian, norwegian, polish, porter, portuguese, romanian, russian, spanish and swedish\r\n",
    "\r\n",
    "from summa import summarizer, keywords\r\n",
    "\r\n",
    "text = \"\"\"Automatic summarization is the process of reducing a text document with a \\\r\n",
    "computer program in order to create a summary that retains the most important points \\\r\n",
    "of the original document. As the problem of information overload has grown, and as \\\r\n",
    "the quantity of data has increased, so has interest in automatic summarization. \\\r\n",
    "Technologies that can make a coherent summary take into account variables such as \\\r\n",
    "length, writing style and syntax. An example of the use of summarization technology \\\r\n",
    "is search engines such as Google. Document summarization is another.\"\"\"\r\n",
    "\r\n",
    "print(summarizer.summarize(text))\r\n",
    "print(keywords.keywords(text))"
   ],
   "outputs": [
    {
     "output_type": "stream",
     "name": "stdout",
     "text": [
      "Automatic summarization is the process of reducing a text document with a computer program in order to create a summary that retains the most important points of the original document.\n",
      "document\n",
      "summarization\n",
      "writing\n",
      "important\n"
     ]
    }
   ],
   "metadata": {}
  },
  {
   "cell_type": "code",
   "execution_count": 23,
   "source": [
    "# 문장 나누기1\r\n",
    "import re\r\n",
    "\r\n",
    "def xplit(*delimiters):\r\n",
    "    return lambda value: re.split('|'.join([re.escape(delimiter) for delimiter in delimiters]), value)\r\n",
    "\r\n",
    "xplit('. ', '? ', '! ', '\\n', '.\\n')(\"이세돌은 알파고를 이겼다. 이세돌은 강하다. 알파고도 짱쎔.\")\r\n",
    "\r\n"
   ],
   "outputs": [
    {
     "output_type": "execute_result",
     "data": {
      "text/plain": [
       "['이세돌은 알파고를 이겼다', '이세돌은 강하다', '알파고도 짱쎔.']"
      ]
     },
     "metadata": {},
     "execution_count": 23
    }
   ],
   "metadata": {}
  },
  {
   "cell_type": "code",
   "execution_count": 27,
   "source": [
    "# 문장 나누기2\r\n",
    "from konlpy.tag import Kkma\r\n",
    "\r\n",
    "kkma = Kkma()\r\n",
    "kkma.sentences(\"이세돌은 알파고를 이겼다. 이세돌은 강하다. 알파고도 짱쎔.\")\r\n",
    "# ['이세 돌은 알 파고를 이겼다.', '이세 돌은 강하다.', '알 파고도 짱 쎔.']\r\n"
   ],
   "outputs": [
    {
     "output_type": "execute_result",
     "data": {
      "text/plain": [
       "['이세 돌은 알 파고를 이겼다.', '이세 돌은 강하다.', '알 파고도 짱 쎔.']"
      ]
     },
     "metadata": {},
     "execution_count": 27
    }
   ],
   "metadata": {}
  },
  {
   "cell_type": "code",
   "execution_count": 4,
   "source": [
    "sentence = [\r\n",
    "  '오패산터널 총격전 용의자 검거 서울 연합뉴스 경찰 관계자들이 19일 오후 서울 강북구 오패산 터널 인근에서 사제 총기를 발사해 경찰을 살해한 용의자 성모씨를 검거하고 있다 성씨는 검거 당시 서바이벌 게임에서 쓰는 방탄조끼에 헬멧까지 착용한 상태였다', \r\n",
    "  '서울 연합뉴스 김은경 기자 사제 총기로 경찰을 살해한 범인 성모 46 씨는 주도면밀했다', \r\n",
    "  '경찰에 따르면 성씨는 19일 오후 강북경찰서 인근 부동산 업소 밖에서 부동산업자 이모 67 씨가 나오기를 기다렸다 이씨와는 평소에도 말다툼을 자주 한 것으로 알려졌다', \r\n",
    "  '이씨가 나와 걷기 시작하자 성씨는 따라가면서 미리 준비해온 사제 총기를 이씨에게 발사했다 총알이 빗나가면서 이씨는 도망갔다 그 빗나간 총알은 지나가던 행인 71 씨의 배를 스쳤다', \r\n",
    "  '성씨는 강북서 인근 치킨집까지 이씨 뒤를 쫓으며 실랑이하다 쓰러뜨린 후 총기와 함께 가져온 망치로 이씨 머리를 때렸다', \r\n",
    "  '이 과정에서 오후 6시 20분께 강북구 번동 길 위에서 사람들이 싸우고 있다 총소리가 났다 는 등의 신고가 여러건 들어왔다', \r\n",
    "  '5분 후에 성씨의 전자발찌가 훼손됐다는 신고가 보호관찰소 시스템을 통해 들어왔다 성범죄자로 전자발찌를 차고 있던 성씨는 부엌칼로 직접 자신의 발찌를 끊었다', \r\n",
    "  '용의자 소지 사제총기 2정 서울 연합뉴스 임헌정 기자 서울 시내에서 폭행 용의자가 현장 조사를 벌이던 경찰관에게 사제총기를 발사해 경찰관이 숨졌다 19일 오후 6시28분 강북구 번동에서 둔기로 맞았다 는 폭행 피해 신고가 접수돼 현장에서 조사하던 강북경찰서 번동파출소 소속 김모 54 경위가 폭행 용의자 성모 45 씨가 쏜 사제총기에 맞고 쓰러진 뒤 병원에 옮겨졌으나 숨졌다 사진은 용의자가 소지한 사제총기', \r\n",
    "  '신고를 받고 번동파출소에서 김창호 54 경위 등 경찰들이 오후 6시 29분께 현장으로 출동했다 성씨는 그사이 부동산 앞에 놓아뒀던 가방을 챙겨 오패산 쪽으로 도망간 후였다', \r\n",
    "  '김 경위는 오패산 터널 입구 오른쪽의 급경사에서 성씨에게 접근하다가 오후 6시 33분께 풀숲에 숨은 성씨가 허공에 난사한 10여발의 총알 중 일부를 왼쪽 어깨 뒷부분에 맞고 쓰러졌다', \r\n",
    "  '김 경위는 구급차가 도착했을 때 이미 의식이 없었고 심폐소생술을 하며 병원으로 옮겨졌으나 총알이 폐를 훼손해 오후 7시 40분께 사망했다', \r\n",
    "  '김 경위는 외근용 조끼를 입고 있었으나 총알을 막기에는 역부족이었다', \r\n",
    "  '머리에 부상을 입은 이씨도 함께 병원으로 이송됐으나 생명에는 지장이 없는 것으로 알려졌다', \r\n",
    "  '성씨는 오패산 터널 밑쪽 숲에서 오후 6시 45분께 잡혔다', \r\n",
    "  '총격현장 수색하는 경찰들 서울 연합뉴스 이효석 기자 19일 오후 서울 강북구 오패산 터널 인근에서 경찰들이 폭행 용의자가 사제총기를 발사해 경찰관이 사망한 사건을 조사 하고 있다', \r\n",
    "  '총 때문에 쫓던 경관들과 민간인들이 몸을 숨겼는데 인근 신발가게 직원 이모씨가 다가가 성씨를 덮쳤고 이어 현장에 있던 다른 상인들과 경찰이 가세해 체포했다', \r\n",
    "  '성씨는 경찰에 붙잡힌 직후 나 자살하려고 한 거다 맞아 죽어도 괜찮다 고 말한 것으로 전해졌다', \r\n",
    "  '성씨 자신도 경찰이 발사한 공포탄 1발 실탄 3발 중 실탄 1발을 배에 맞았으나 방탄조끼를 입은 상태여서 부상하지는 않았다', \r\n",
    "  '경찰은 인근을 수색해 성씨가 만든 사제총 16정과 칼 7개를 압수했다 실제 폭발할지는 알 수 없는 요구르트병에 무언가를 채워두고 심지를 꽂은 사제 폭탄도 발견됐다', \r\n",
    "  '일부는 숲에서 발견됐고 일부는 성씨가 소지한 가방 안에 있었다'\r\n",
    "]"
   ],
   "outputs": [],
   "metadata": {}
  },
  {
   "cell_type": "code",
   "execution_count": 5,
   "source": [
    "# 요약 문장\r\n",
    "from konlpy.tag import Komoran\r\n",
    "from textrank import KeysentenceSummarizer\r\n",
    "\r\n",
    "komoran = Komoran()\r\n",
    "def komoran_tokenize(sent):\r\n",
    "    words = komoran.pos(sent, join=True)\r\n",
    "    words = [w for w in words if ('/NN' in w or '/XR' in w or '/VA' in w or '/VV' in w)]\r\n",
    "    return words\r\n",
    "\r\n",
    "summarizer = KeysentenceSummarizer(tokenize = komoran_tokenize, min_sim = 0.3)\r\n",
    "keysents = summarizer.summarize(sentence, topk=3)\r\n",
    "print(keysents)"
   ],
   "outputs": [
    {
     "output_type": "stream",
     "name": "stdout",
     "text": [
      "[(0, 1.7010195551998453, '오패산터널 총격전 용의자 검거 서울 연합뉴스 경찰 관계자들이 19일 오후 서울 강북구 오패산 터널 인근에서 사제 총기를 발사해 경찰을 살해한 용의자 성모씨를 검거하고 있다 성씨는 검거 당시 서바이벌 게임에서 쓰는 방탄조끼에 헬멧까지 착용한 상태였다'), (7, 1.4886043194936454, '용의자 소지 사제총기 2정 서울 연합뉴스 임헌정 기자 서울 시내에서 폭행 용의자가 현장 조사를 벌이던 경찰관에게 사제총기를 발사해 경찰관이 숨졌다 19일 오후 6시28분 강북구 번동에서 둔기로 맞았다 는 폭행 피해 신고가 접수돼 현장에서 조사하던 강북경찰서 번동파출소 소속 김모 54 경위가 폭행 용의자 성모 45 씨가 쏜 사제총기에 맞고 쓰러진 뒤 병원에 옮겨졌으나 숨졌다 사진은 용의자가 소지한 사제총기'), (8, 1.4278590385659577, '신고를 받고 번동파출소에서 김창호 54 경위 등 경찰들이 오후 6시 29분께 현장으로 출동했다 성씨는 그사이 부동산 앞에 놓아뒀던 가방을 챙겨 오패산 쪽으로 도망간 후였다')]\n"
     ]
    }
   ],
   "metadata": {}
  },
  {
   "cell_type": "code",
   "execution_count": 44,
   "source": [
    "#핵심 키워드 \r\n",
    "from textrank import KeywordSummarizer\r\n",
    "\r\n",
    "keyword_extractor = KeywordSummarizer(\r\n",
    "    tokenize = komoran_tokenize,\r\n",
    "    window = -1,\r\n",
    "    verbose = False\r\n",
    ")\r\n",
    "\r\n",
    "keywords = keyword_extractor.summarize(sentence, topk=30)\r\n",
    "print(keywords)"
   ],
   "outputs": [
    {
     "output_type": "stream",
     "name": "stdout",
     "text": [
      "[('용의자/NNP', 3.040833543583403), ('사제총/NNP', 2.505798518168069), ('성씨/NNP', 2.4254730689696298), ('서울/NNP', 2.399522533743009), ('경찰/NNG', 2.2541631612221043), ('오후/NNG', 2.154778397410354), ('폭행/NNG', 1.9019818685234693), ('씨/NNB', 1.7517679455874249), ('발사/NNG', 1.658959293729613), ('맞/VV', 1.618499063577056), ('분/NNB', 1.6164369966921637), ('번동/NNP', 1.4681655196749035), ('현장/NNG', 1.4530182347939307), ('시/NNB', 1.408892735491178), ('경찰관/NNP', 1.4012941012332316), ('조사/NNG', 1.4012941012332316), ('일/NNB', 1.3922748983755766), ('강북구/NNP', 1.332317291003927), ('연합뉴스/NNP', 1.3259099432277819), ('이씨/NNP', 1.2869280494707418), ('경위/NNG', 1.2442970385565473), ('소지/NNG', 1.2383874843043485), ('오/NNP', 1.2204773446319281), ('패사/NNG', 1.2204773446319281), ('인근/NNG', 1.2118828522182832), ('신고/NNG', 1.174042491690959), ('숨지/VV', 1.1483016731686424), ('김/NNP', 1.1443609482728325), ('있/VV', 1.134049499636939), ('검거/NNG', 1.1026800788933409)]\n"
     ]
    }
   ],
   "metadata": {}
  },
  {
   "cell_type": "code",
   "execution_count": 61,
   "source": [
    "# 직접 뉴스 기사 요약 \r\n",
    "from newspaper import Article\r\n",
    "url2 = 'https://news.naver.com/main/read.naver?mode=LSD&mid=shm&sid1=102&oid=032&aid=0003094928'\r\n",
    "\r\n",
    "b = Article(url2, language = 'ko')\r\n",
    "\r\n",
    "b.download()\r\n",
    "b.parse()\r\n",
    "# print(b.text)\r\n",
    "sentence_ = b.text\r\n",
    "\r\n",
    "# 문장 나누기1\r\n",
    "import re\r\n",
    "\r\n",
    "def xplit(*delimiters):\r\n",
    "    return lambda value: re.split('|'.join([re.escape(delimiter) for delimiter in delimiters]), value)\r\n",
    "\r\n",
    "sentence_split = xplit('. ', '? ', '! ', '\\n', '.\\n')(sentence_)\r\n",
    "\r\n",
    "summarizer = KeysentenceSummarizer(tokenize = komoran_tokenize, min_sim = 0.3)\r\n",
    "keysents = summarizer.summarize(sentence_split, topk=3)\r\n",
    "\r\n",
    "for keysent in keysents :  \r\n",
    "    print(keysent[2])\r\n",
    "\r\n",
    "\r\n",
    "'''\r\n",
    "# 네이버 자체 요약봇과 요약 비교 \r\n",
    "\r\n",
    "'코로나 상생 국민지원금' 신청 절차가 다음달 6일부터 시작된다.\r\n",
    "\r\n",
    "국민지원금 지급 대상 여부는 다음달 6일 오전 9시부터 카드사 홈페이지·앱·콜센터·ARS, 건강보험공단 홈페이지·앱 등에서 조회가 가능하다.\r\n",
    "\r\n",
    "국민지원금 지급 대상자는 신용카드 및 체크카드 충전, 지역사랑상품권, 선불카드 중 선택해 신청할 수 있다.\r\n",
    "'''\r\n"
   ],
   "outputs": [
    {
     "output_type": "stream",
     "name": "stdout",
     "text": [
      "다만 주소지가 다른 경우 부모는 피부양자라 하더라도 다른 가구로 보며, 맞벌이 부부는 별도의 가구로 보되 부부의 합산보험료가 유리한 경우 동일한 가구로 인정이 가능하다.국민지원금 지급대상 여부, 신청방법 등에 대해 사전에 알림을 받고 싶은 국민들은 30일부터 국민비서 알림 서비스를 신청할 수 있다\n",
      "맞벌이 가구의 경우 가구원 수 1명이 추가된 선정기준에 따라 지급 여부가 결정된다.정부는 30일 오전 10시30분 정부서울청사에서 관계부처 합동 브리핑을 열고 이런 내용을 골자로 한 코로나 상생 국민지원금 세부시행계획을 발표했다\n",
      "국민비서 사전알림은 네이버앱, 카카오톡, 토스 및 국민비서 홈페이지에서 신청할 수 있으며 서비스를 신청한 이들에게는 다음달 5일(일) 오전부터 순차적으로 안내가 이뤄질 예정이다.국민지원금 지급 대상 여부는 다음달 6일 오전 9시부터 카드사 홈페이지·앱·콜센터·ARS, 건강보험공단 홈페이지·앱 등에서 조회가 가능하다\n"
     ]
    },
    {
     "output_type": "execute_result",
     "data": {
      "text/plain": [
       "\"\\n# 네이버 자체 요약봇과 요약 비교 \\n\\n'코로나 상생 국민지원금' 신청 절차가 다음달 6일부터 시작된다.\\n\\n국민지원금 지급 대상 여부는 다음달 6일 오전 9시부터 카드사 홈페이지·앱·콜센터·ARS, 건강보험공단 홈페이지·앱 등에서 조회가 가능하다.\\n\\n국민지원금 지급 대상자는 신용카드 및 체크카드 충전, 지역사랑상품권, 선불카드 중 선택해 신청할 수 있다.\\n\""
      ]
     },
     "metadata": {},
     "execution_count": 61
    }
   ],
   "metadata": {}
  },
  {
   "cell_type": "code",
   "execution_count": 17,
   "source": [
    "\r\n",
    "from typing import List\r\n",
    "\r\n",
    "class MyTokenizer:\r\n",
    "    def __call__(self, text: str) -> List[str]:\r\n",
    "        tokens: List[str] = text.split()\r\n",
    "        return tokens\r\n",
    "    \r\n",
    "from typing import List\r\n",
    "from konlpy.tag import Okt\r\n",
    "\r\n",
    "class OktTokenizer:\r\n",
    "    okt: Okt = Okt()\r\n",
    "\r\n",
    "    def __call__(self, text: str) -> List[str]:\r\n",
    "        tokens: List[str] = self.okt.phrases(text)\r\n",
    "        return tokens"
   ],
   "outputs": [],
   "metadata": {}
  },
  {
   "cell_type": "code",
   "execution_count": 18,
   "source": [
    "# 직접 뉴스 기사 요약 \r\n",
    "from newspaper import Article\r\n",
    "url2 = 'https://news.naver.com/main/read.naver?mode=LSD&mid=shm&sid1=102&oid=032&aid=0003094928'\r\n",
    "# url2 = 'https://news.v.daum.net/v/20170611192209012?rcmd=r%20??:%20https://excelsior-cjh.tistory.com/93%20[EXCELSIOR]'\r\n",
    "\r\n",
    "b = Article(url2, language = 'ko')\r\n",
    "\r\n",
    "b.download()\r\n",
    "b.parse()\r\n",
    "# print(b.text)\r\n",
    "sentence_ = b.text"
   ],
   "outputs": [],
   "metadata": {}
  },
  {
   "cell_type": "code",
   "execution_count": 19,
   "source": [
    "from typing import List\r\n",
    "from textrankr import TextRank\r\n",
    "\r\n",
    "\r\n",
    "mytokenizer= OktTokenizer()\r\n",
    "textrank = TextRank(mytokenizer)\r\n",
    "\r\n",
    "k: int = 3  # num sentences in the resulting summary\r\n",
    "\r\n",
    "summarized: str = textrank.summarize(sentence_, k)\r\n",
    "print(summarized)  # gives you some text"
   ],
   "outputs": [
    {
     "output_type": "stream",
     "name": "stdout",
     "text": [
      "국민지원금 지급은 신청일 다음날 이뤄지므로 빠르면 7일부터 지원금을 받을 수 있다\n",
      "지급 기준은 1인 가구의 경우 건강보험료가 직장, 지역가입자 모두 17만원 이하로 당초 정부가 발표했던 내용보다 다소 상향됐다\n",
      "국민지원금 지급 대상자는 신용카드 및 체크카드 충전, 지역사랑상품권, 선불카드 중 선택해 신청할 수 있다\n"
     ]
    }
   ],
   "metadata": {}
  },
  {
   "cell_type": "code",
   "execution_count": null,
   "source": [
    "from textrank import KeysentenceSummarizer\r\n",
    "from konlpy.tag import Komoran\r\n",
    "\r\n",
    "komoran = Komoran()\r\n",
    "def komoran_tokenizer(sent):\r\n",
    "    words = komoran.pos(sent, join=True)\r\n",
    "    words = [w for w in words if ('/NN' in w or '/XR' in w or '/VA' in w or '/VV' in w)]\r\n",
    "    return words\r\n",
    "\r\n",
    "summarizer = KeysentenceSummarizer(\r\n",
    "    tokenize = komoran_tokenizer,\r\n",
    "    min_sim = 0.3,\r\n",
    "    verbose = False\r\n",
    ")\r\n",
    "\r\n",
    "keysents = summarizer.summarize(sentence, topk=3)"
   ],
   "outputs": [],
   "metadata": {}
  },
  {
   "cell_type": "code",
   "execution_count": 14,
   "source": [
    "\"\"\"\r\n",
    "문장 유사도를 통한 요약 => 실패 / 중요도가 필요함\r\n",
    "\r\n",
    "\"\"\"\r\n",
    "# 리스트에서 top-n 인덱스 찾기\r\n",
    "def most_find(sequence, n):\r\n",
    "    lst = sorted(range(len(sequence)), key=lambda x:sequence[x], reverse=True)\r\n",
    "    return lst[:n]\r\n",
    "\r\n",
    "# a = [1, 5, 6, 2, 3]\r\n",
    "# result = most_find(a, 3)\r\n",
    "# print(result)"
   ],
   "outputs": [],
   "metadata": {}
  },
  {
   "cell_type": "code",
   "execution_count": 20,
   "source": [
    "\r\n",
    "from sentence_transformers import SentenceTransformer, util\r\n",
    "import numpy as np\r\n",
    "import random\r\n",
    "\r\n",
    "#모델 불러오기\r\n",
    "model = SentenceTransformer('distiluse-base-multilingual-cased-v1')\r\n",
    "\r\n",
    "#문장 리스트\r\n",
    "corpus = sentence\r\n",
    "corpus_embeddings = model.encode(corpus, convert_to_tensor=True)\r\n",
    "\r\n",
    "#요약 리스트\r\n",
    "yoyak = []\r\n",
    "\r\n",
    "#계산 리스트 \r\n",
    "sum_sim = []\r\n",
    "\r\n",
    "for i in range(len(sentence)) :\r\n",
    "    query = sentence[i] \r\n",
    "    #코사인 유사도 사용하여 얼마나 유사한지\r\n",
    "    top_k = 6 #query 포함 top 5개\r\n",
    "    query_embedding = model.encode(query, convert_to_tensor=True)\r\n",
    "    cos_scores = util.pytorch_cos_sim(query_embedding, corpus_embeddings)[0]\r\n",
    "    cos_scores = cos_scores.cpu()\r\n",
    "    top_results = np.argpartition(-cos_scores, range(top_k))[0:top_k] # np 사용 이유 : 순위를 순서대로 맞추기 위함\r\n",
    "\r\n",
    "    #유사도 더하기      \r\n",
    "    sum = 0\r\n",
    "    for idx in top_results[1:top_k]:\r\n",
    "        sum += cos_scores[idx]\r\n",
    "    f_sum = float(sum)/5 #tensor to float\r\n",
    "    sum_sim.append(f_sum)\r\n",
    "print(sum_sim)\r\n",
    "\r\n",
    "result = most_find(sum_sim, 3)\r\n",
    "\r\n",
    "for i in result :\r\n",
    "    print(sentence[i])\r\n",
    "\r\n",
    "#효과가 별로라는 것 확인\r\n",
    "        "
   ],
   "outputs": [
    {
     "output_type": "stream",
     "name": "stdout",
     "text": [
      "[0.63023681640625, 0.5879128456115723, 0.4797794818878174, 0.4497077465057373, 0.4735549449920654, 0.43373470306396483, 0.36887474060058595, 0.589254903793335, 0.515314769744873, 0.47435483932495115, 0.4141735076904297, 0.446774959564209, 0.3194413185119629, 0.411041259765625, 0.6436617374420166, 0.4869551658630371, 0.4438981533050537, 0.4927040100097656, 0.5206060409545898, 0.23262710571289064]\n",
      "총격현장 수색하는 경찰들 서울 연합뉴스 이효석 기자 19일 오후 서울 강북구 오패산 터널 인근에서 경찰들이 폭행 용의자가 사제총기를 발사해 경찰관이 사망한 사건을 조사 하고 있다\n",
      "오패산터널 총격전 용의자 검거 서울 연합뉴스 경찰 관계자들이 19일 오후 서울 강북구 오패산 터널 인근에서 사제 총기를 발사해 경찰을 살해한 용의자 성모씨를 검거하고 있다 성씨는 검거 당시 서바이벌 게임에서 쓰는 방탄조끼에 헬멧까지 착용한 상태였다\n",
      "용의자 소지 사제총기 2정 서울 연합뉴스 임헌정 기자 서울 시내에서 폭행 용의자가 현장 조사를 벌이던 경찰관에게 사제총기를 발사해 경찰관이 숨졌다 19일 오후 6시28분 강북구 번동에서 둔기로 맞았다 는 폭행 피해 신고가 접수돼 현장에서 조사하던 강북경찰서 번동파출소 소속 김모 54 경위가 폭행 용의자 성모 45 씨가 쏜 사제총기에 맞고 쓰러진 뒤 병원에 옮겨졌으나 숨졌다 사진은 용의자가 소지한 사제총기\n"
     ]
    }
   ],
   "metadata": {}
  },
  {
   "cell_type": "code",
   "execution_count": 1,
   "source": [
    "body = '''\r\n",
    "       Scientists say they have discovered a new species of orangutans on Indonesia’s island of Sumatra.\r\n",
    "The population differs in several ways from the two existing orangutan species found in Sumatra and the neighboring island of Borneo.\r\n",
    "The orangutans were found inside North Sumatra’s Batang Toru forest, the science publication Current Biology reported.\r\n",
    "Researchers named the new species the Tapanuli orangutan. They say the animals are considered a new species because of genetic, skeletal and tooth differences.\r\n",
    "Michael Kruetzen is a geneticist with the University of Zurich who has studied the orangutans for several years. He said he was excited to be part of the unusual discovery of a new great ape in the present day. He noted that most great apes are currently considered endangered or severely endangered.\r\n",
    "Gorillas, chimpanzees and bonobos also belong to the great ape species.\r\n",
    "Orangutan – which means person of the forest in the Indonesian and Malay languages - is the world’s biggest tree-living mammal. The orange-haired animals can move easily among the trees because their arms are longer than their legs. They live more lonely lives than other great apes, spending a lot of time sleeping and eating fruit in the forest.\r\n",
    "The new study said fewer than 800 of the newly-described orangutans exist. Their low numbers make the group the most endangered of all the great ape species.\r\n",
    "They live within an area covering about 1,000 square kilometers. The population is considered highly vulnerable. That is because the environment which they depend on is greatly threatened by development.\r\n",
    "Researchers say if steps are not taken quickly to reduce the current and future threats, the new species could become extinct “within our lifetime.”\r\n",
    "Research into the new species began in 2013, when an orangutan protection group in Sumatra found an injured orangutan in an area far away from the other species. The adult male orangutan had been beaten by local villagers and died of his injuries. The complete skull was examined by researchers.\r\n",
    "Among the physical differences of the new species are a notably smaller head and frizzier hair. The Tapanuli orangutans also have a different diet and are found only in higher forest areas.\r\n",
    "There is no unified international system for recognizing new species. But to be considered, discovery claims at least require publication in a major scientific publication.\r\n",
    "Russell Mittermeier is head of the primate specialist group at the International Union for the Conservation of Nature. He called the finding a “remarkable discovery.” He said it puts responsibility on the Indonesian government to help the species survive.\r\n",
    "Matthew Nowak is one of the writers of the study. He told the Associated Press that there are three groups of the Tapanuli orangutans that are separated by non-protected land.He said forest land needs to connect the separated groups.\r\n",
    "In addition, the writers of the study are recommending that plans for a hydropower center in the area be stopped by the government.\r\n",
    "It also recommended that remaining forest in the Sumatran area where the orangutans live be protected.\r\n",
    "I’m Bryan Lynn.\r\n",
    "\r\n",
    "        '''"
   ],
   "outputs": [],
   "metadata": {}
  },
  {
   "cell_type": "code",
   "execution_count": null,
   "source": [
    "from summarizer import Summarizer,TransformerSummarizer\r\n",
    "\r\n",
    "bert_model = Summarizer()\r\n",
    "bert_summary = ''.join(bert_model(body, min_length=60))\r\n",
    "print(bert_summary)"
   ],
   "outputs": [],
   "metadata": {}
  },
  {
   "cell_type": "code",
   "execution_count": null,
   "source": [
    "GPT2_model = TransformerSummarizer(transformer_type=\"GPT2\",transformer_model_key=\"gpt2-medium\")\r\n",
    "full = ''.join(GPT2_model(body, min_length=60))\r\n",
    "print(full)\r\n",
    "\r\n",
    "# https://www.analyticsvidhya.com/blog/2020/11/summarize-twitter-live-data-using-pretrained-nlp-models/ \r\n",
    "# 오류  https://pypi.org/project/bert-extractive-summarizer/"
   ],
   "outputs": [],
   "metadata": {}
  }
 ],
 "metadata": {
  "orig_nbformat": 4,
  "language_info": {
   "name": "python",
   "version": "3.7.11",
   "mimetype": "text/x-python",
   "codemirror_mode": {
    "name": "ipython",
    "version": 3
   },
   "pygments_lexer": "ipython3",
   "nbconvert_exporter": "python",
   "file_extension": ".py"
  },
  "kernelspec": {
   "name": "python3",
   "display_name": "Python 3.7.11 64-bit ('exam_cv2': conda)"
  },
  "interpreter": {
   "hash": "19a2027c367e4a8fbf50703f7b521df71edff403eb9eba2200ef5f1febf03a5b"
  }
 },
 "nbformat": 4,
 "nbformat_minor": 2
}