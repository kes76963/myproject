{
 "cells": [
  {
   "cell_type": "markdown",
   "source": [
    "Abstractive summary VS Extractive summary"
   ],
   "metadata": {}
  },
  {
   "cell_type": "code",
   "execution_count": null,
   "source": [
    "# 문장 예시 \r\n",
    "sentence = [\r\n",
    "  '오패산터널 총격전 용의자 검거 서울 연합뉴스 경찰 관계자들이 19일 오후 서울 강북구 오패산 터널 인근에서 사제 총기를 발사해 경찰을 살해한 용의자 성모씨를 검거하고 있다 성씨는 검거 당시 서바이벌 게임에서 쓰는 방탄조끼에 헬멧까지 착용한 상태였다', \r\n",
    "  '서울 연합뉴스 김은경 기자 사제 총기로 경찰을 살해한 범인 성모 46 씨는 주도면밀했다', \r\n",
    "  '경찰에 따르면 성씨는 19일 오후 강북경찰서 인근 부동산 업소 밖에서 부동산업자 이모 67 씨가 나오기를 기다렸다 이씨와는 평소에도 말다툼을 자주 한 것으로 알려졌다', \r\n",
    "  '이씨가 나와 걷기 시작하자 성씨는 따라가면서 미리 준비해온 사제 총기를 이씨에게 발사했다 총알이 빗나가면서 이씨는 도망갔다 그 빗나간 총알은 지나가던 행인 71 씨의 배를 스쳤다', \r\n",
    "  '성씨는 강북서 인근 치킨집까지 이씨 뒤를 쫓으며 실랑이하다 쓰러뜨린 후 총기와 함께 가져온 망치로 이씨 머리를 때렸다', \r\n",
    "  '이 과정에서 오후 6시 20분께 강북구 번동 길 위에서 사람들이 싸우고 있다 총소리가 났다 는 등의 신고가 여러건 들어왔다', \r\n",
    "  '5분 후에 성씨의 전자발찌가 훼손됐다는 신고가 보호관찰소 시스템을 통해 들어왔다 성범죄자로 전자발찌를 차고 있던 성씨는 부엌칼로 직접 자신의 발찌를 끊었다', \r\n",
    "  '용의자 소지 사제총기 2정 서울 연합뉴스 임헌정 기자 서울 시내에서 폭행 용의자가 현장 조사를 벌이던 경찰관에게 사제총기를 발사해 경찰관이 숨졌다 19일 오후 6시28분 강북구 번동에서 둔기로 맞았다 는 폭행 피해 신고가 접수돼 현장에서 조사하던 강북경찰서 번동파출소 소속 김모 54 경위가 폭행 용의자 성모 45 씨가 쏜 사제총기에 맞고 쓰러진 뒤 병원에 옮겨졌으나 숨졌다 사진은 용의자가 소지한 사제총기', \r\n",
    "  '신고를 받고 번동파출소에서 김창호 54 경위 등 경찰들이 오후 6시 29분께 현장으로 출동했다 성씨는 그사이 부동산 앞에 놓아뒀던 가방을 챙겨 오패산 쪽으로 도망간 후였다', \r\n",
    "  '김 경위는 오패산 터널 입구 오른쪽의 급경사에서 성씨에게 접근하다가 오후 6시 33분께 풀숲에 숨은 성씨가 허공에 난사한 10여발의 총알 중 일부를 왼쪽 어깨 뒷부분에 맞고 쓰러졌다', \r\n",
    "  '김 경위는 구급차가 도착했을 때 이미 의식이 없었고 심폐소생술을 하며 병원으로 옮겨졌으나 총알이 폐를 훼손해 오후 7시 40분께 사망했다', \r\n",
    "  '김 경위는 외근용 조끼를 입고 있었으나 총알을 막기에는 역부족이었다', \r\n",
    "  '머리에 부상을 입은 이씨도 함께 병원으로 이송됐으나 생명에는 지장이 없는 것으로 알려졌다', \r\n",
    "  '성씨는 오패산 터널 밑쪽 숲에서 오후 6시 45분께 잡혔다', \r\n",
    "  '총격현장 수색하는 경찰들 서울 연합뉴스 이효석 기자 19일 오후 서울 강북구 오패산 터널 인근에서 경찰들이 폭행 용의자가 사제총기를 발사해 경찰관이 사망한 사건을 조사 하고 있다', \r\n",
    "  '총 때문에 쫓던 경관들과 민간인들이 몸을 숨겼는데 인근 신발가게 직원 이모씨가 다가가 성씨를 덮쳤고 이어 현장에 있던 다른 상인들과 경찰이 가세해 체포했다', \r\n",
    "  '성씨는 경찰에 붙잡힌 직후 나 자살하려고 한 거다 맞아 죽어도 괜찮다 고 말한 것으로 전해졌다', \r\n",
    "  '성씨 자신도 경찰이 발사한 공포탄 1발 실탄 3발 중 실탄 1발을 배에 맞았으나 방탄조끼를 입은 상태여서 부상하지는 않았다', \r\n",
    "  '경찰은 인근을 수색해 성씨가 만든 사제총 16정과 칼 7개를 압수했다 실제 폭발할지는 알 수 없는 요구르트병에 무언가를 채워두고 심지를 꽂은 사제 폭탄도 발견됐다', \r\n",
    "  '일부는 숲에서 발견됐고 일부는 성씨가 소지한 가방 안에 있었다'\r\n",
    "]\r\n",
    "\r\n",
    "# 이어진 문장\r\n",
    "sentence2one = '. '.join(sentence)\r\n",
    "#print(sentence2one)\r\n",
    "  "
   ],
   "outputs": [],
   "metadata": {}
  },
  {
   "cell_type": "code",
   "execution_count": 13,
   "source": [
    "'''Abstractive summary'''\r\n",
    "from transformers import PreTrainedTokenizerFast, BartForConditionalGeneration\r\n",
    "\r\n",
    "#  Load Model and Tokenize\r\n",
    "tokenizer = PreTrainedTokenizerFast.from_pretrained(\"ainize/kobart-news\")\r\n",
    "model = BartForConditionalGeneration.from_pretrained(\"ainize/kobart-news\")\r\n",
    "\r\n",
    "# Encode Input Text\r\n",
    "input_text = sentence2one #리스트 안 됨, 이어진 문장 단위로\r\n",
    "input_ids = tokenizer.encode(input_text, return_tensors=\"pt\")\r\n",
    "\r\n",
    "# Generate Summary Text Ids\r\n",
    "summary_text_ids = model.generate(\r\n",
    "    input_ids=input_ids,\r\n",
    "    bos_token_id=model.config.bos_token_id,\r\n",
    "    eos_token_id=model.config.eos_token_id,\r\n",
    "    # length_penalty=2.0,\r\n",
    "    # max_length=142,\r\n",
    "    # min_length=56,\r\n",
    "    # num_beams=4,\r\n",
    "    length_penalty=4, #페널티 높일수록 요약이 길어지고, 문장이 안 맞음\r\n",
    "    max_length=256,\r\n",
    "    min_length=20,\r\n",
    "    num_beams=4,\r\n",
    ")\r\n",
    "# Decoding Text\r\n",
    "print(tokenizer.decode(summary_text_ids[0], skip_special_tokens=True))"
   ],
   "outputs": [
    {
     "output_type": "stream",
     "name": "stdout",
     "text": [
      "경찰에 따르면 19일 오후 강북경찰서 인근 부동산 업소 밖에서 부동산업자 이모씨가 나오기를 기다렸다 이씨와는 평소에도 말다툼을 자주 한 것으로 알려진 성씨가 이날 오후 6시경 오패산 터널 입구 오른쪽의 급경사에서 경찰에게 사제총기를 발사해 경찰관이 사망한 사건을 조사 중이라고 밝혔다.\n"
     ]
    }
   ],
   "metadata": {}
  },
  {
   "cell_type": "code",
   "execution_count": 18,
   "source": [
    "'''Extractive summary1'''\r\n",
    "from konlpy.tag import Komoran\r\n",
    "from textrank import KeysentenceSummarizer\r\n",
    "\r\n",
    "komoran = Komoran()\r\n",
    "def komoran_tokenize(sent):\r\n",
    "    words = komoran.pos(sent, join=True)\r\n",
    "    words = [w for w in words if ('/NN' in w or '/XR' in w or '/VA' in w or '/VV' in w)]\r\n",
    "    return words\r\n",
    "\r\n",
    "summarizer = KeysentenceSummarizer(tokenize = komoran_tokenize, min_sim = 0.3)\r\n",
    "keysents = summarizer.summarize(sentence, topk=3)\r\n",
    "# print(keysents) # [sent_idx, rank, sent] 리스트 topk 개로 구성\r\n",
    "\r\n",
    "for sent_idx, rank, sent in keysents :\r\n",
    "    print(sent) # or k in keysents : print(k[2])"
   ],
   "outputs": [
    {
     "output_type": "stream",
     "name": "stdout",
     "text": [
      "오패산터널 총격전 용의자 검거 서울 연합뉴스 경찰 관계자들이 19일 오후 서울 강북구 오패산 터널 인근에서 사제 총기를 발사해 경찰을 살해한 용의자 성모씨를 검거하고 있다 성씨는 검거 당시 서바이벌 게임에서 쓰는 방탄조끼에 헬멧까지 착용한 상태였다\n",
      "용의자 소지 사제총기 2정 서울 연합뉴스 임헌정 기자 서울 시내에서 폭행 용의자가 현장 조사를 벌이던 경찰관에게 사제총기를 발사해 경찰관이 숨졌다 19일 오후 6시28분 강북구 번동에서 둔기로 맞았다 는 폭행 피해 신고가 접수돼 현장에서 조사하던 강북경찰서 번동파출소 소속 김모 54 경위가 폭행 용의자 성모 45 씨가 쏜 사제총기에 맞고 쓰러진 뒤 병원에 옮겨졌으나 숨졌다 사진은 용의자가 소지한 사제총기\n",
      "신고를 받고 번동파출소에서 김창호 54 경위 등 경찰들이 오후 6시 29분께 현장으로 출동했다 성씨는 그사이 부동산 앞에 놓아뒀던 가방을 챙겨 오패산 쪽으로 도망간 후였다\n"
     ]
    }
   ],
   "metadata": {}
  },
  {
   "cell_type": "code",
   "execution_count": 20,
   "source": [
    "'''Extractive summary2'''\r\n",
    "from typing import List\r\n",
    "from textrankr import TextRank\r\n",
    "\r\n",
    "class MyTokenizer:\r\n",
    "    def __call__(self, text: str) -> List[str]:\r\n",
    "        tokens: List[str] = text.split()\r\n",
    "        return tokens\r\n",
    "    \r\n",
    "from typing import List\r\n",
    "from konlpy.tag import Okt\r\n",
    "\r\n",
    "class OktTokenizer:\r\n",
    "    okt: Okt = Okt()\r\n",
    "\r\n",
    "    def __call__(self, text: str) -> List[str]:\r\n",
    "        tokens: List[str] = self.okt.phrases(text)\r\n",
    "        return tokens\r\n",
    "    \r\n",
    "from typing import List\r\n",
    "\r\n",
    "\r\n",
    "mytokenizer= MyTokenizer()\r\n",
    "textrank = TextRank(mytokenizer)\r\n",
    "\r\n",
    "k: int = 3  # num sentences in the resulting summary\r\n",
    "\r\n",
    "summarized: str = textrank.summarize(sentence2one, k)\r\n",
    "print(summarized)  # gives you some text"
   ],
   "outputs": [
    {
     "output_type": "stream",
     "name": "stdout",
     "text": [
      "오패산터널 총격전 용의자 검거 서울 연합뉴스 경찰 관계자들이 19일 오후 서울 강북구 오패산 터널 인근에서 사제 총기를 발사해 경찰을 살해한 용의자 성모씨를 검거하고 있다 성씨는 검거 당시 서바이벌 게임에서 쓰는 방탄조끼에 헬멧까지 착용한 상태였다\n",
      "성씨는 오패산 터널 밑쪽 숲에서 오후 6시 45분께 잡혔다\n",
      "총격현장 수색하는 경찰들 서울 연합뉴스 이효석 기자 19일 오후 서울 강북구 오패산 터널 인근에서 경찰들이 폭행 용의자가 사제총기를 발사해 경찰관이 사망한 사건을 조사 하고 있다\n"
     ]
    }
   ],
   "metadata": {}
  },
  {
   "cell_type": "code",
   "execution_count": 44,
   "source": [
    "#핵심 키워드 \r\n",
    "from textrank import KeywordSummarizer\r\n",
    "\r\n",
    "keyword_extractor = KeywordSummarizer(\r\n",
    "    tokenize = komoran_tokenize,\r\n",
    "    window = -1,\r\n",
    "    verbose = False\r\n",
    ")\r\n",
    "\r\n",
    "keywords = keyword_extractor.summarize(sentence, topk=30)\r\n",
    "print(keywords)"
   ],
   "outputs": [
    {
     "output_type": "stream",
     "name": "stdout",
     "text": [
      "[('용의자/NNP', 3.040833543583403), ('사제총/NNP', 2.505798518168069), ('성씨/NNP', 2.4254730689696298), ('서울/NNP', 2.399522533743009), ('경찰/NNG', 2.2541631612221043), ('오후/NNG', 2.154778397410354), ('폭행/NNG', 1.9019818685234693), ('씨/NNB', 1.7517679455874249), ('발사/NNG', 1.658959293729613), ('맞/VV', 1.618499063577056), ('분/NNB', 1.6164369966921637), ('번동/NNP', 1.4681655196749035), ('현장/NNG', 1.4530182347939307), ('시/NNB', 1.408892735491178), ('경찰관/NNP', 1.4012941012332316), ('조사/NNG', 1.4012941012332316), ('일/NNB', 1.3922748983755766), ('강북구/NNP', 1.332317291003927), ('연합뉴스/NNP', 1.3259099432277819), ('이씨/NNP', 1.2869280494707418), ('경위/NNG', 1.2442970385565473), ('소지/NNG', 1.2383874843043485), ('오/NNP', 1.2204773446319281), ('패사/NNG', 1.2204773446319281), ('인근/NNG', 1.2118828522182832), ('신고/NNG', 1.174042491690959), ('숨지/VV', 1.1483016731686424), ('김/NNP', 1.1443609482728325), ('있/VV', 1.134049499636939), ('검거/NNG', 1.1026800788933409)]\n"
     ]
    }
   ],
   "metadata": {}
  }
 ],
 "metadata": {
  "orig_nbformat": 4,
  "language_info": {
   "name": "python",
   "version": "3.7.10",
   "mimetype": "text/x-python",
   "codemirror_mode": {
    "name": "ipython",
    "version": 3
   },
   "pygments_lexer": "ipython3",
   "nbconvert_exporter": "python",
   "file_extension": ".py"
  },
  "kernelspec": {
   "name": "python3",
   "display_name": "Python 3.7.10 64-bit ('exam_cv2': conda)"
  },
  "interpreter": {
   "hash": "19a2027c367e4a8fbf50703f7b521df71edff403eb9eba2200ef5f1febf03a5b"
  }
 },
 "nbformat": 4,
 "nbformat_minor": 2
}