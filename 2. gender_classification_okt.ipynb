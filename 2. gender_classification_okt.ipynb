{
 "cells": [
  {
   "cell_type": "code",
   "execution_count": 1,
   "source": [
    "\r\n",
    "import pandas as pd\r\n",
    "import numpy as np\r\n",
    "import matplotlib.pyplot as plt\r\n",
    "from tensorflow.keras.models import Sequential\r\n",
    "from tensorflow.keras.layers import *\r\n",
    "\r\n",
    "X_train, X_test, Y_train, Y_test = np.load(\r\n",
    "    './model/gender_data_max_9_size_29662.npy',\r\n",
    "    allow_pickle=True)\r\n",
    "print(X_train.shape)\r\n",
    "print(X_test.shape)\r\n",
    "print(Y_train.shape)\r\n",
    "print(Y_test.shape)"
   ],
   "outputs": [
    {
     "output_type": "stream",
     "name": "stderr",
     "text": [
      "C:\\Users\\kim\\.conda\\envs\\exam_cv2\\lib\\site-packages\\numpy\\_distributor_init.py:32: UserWarning: loaded more than 1 DLL from .libs:\n",
      "C:\\Users\\kim\\.conda\\envs\\exam_cv2\\lib\\site-packages\\numpy\\.libs\\libopenblas.NOIJJG62EMASZI6NYURL6JBKM4EVBGM7.gfortran-win_amd64.dll\n",
      "C:\\Users\\kim\\.conda\\envs\\exam_cv2\\lib\\site-packages\\numpy\\.libs\\libopenblas.PYQHXLVVQ7VESDPUVUADXEVJOBGHJPAY.gfortran-win_amd64.dll\n",
      "C:\\Users\\kim\\.conda\\envs\\exam_cv2\\lib\\site-packages\\numpy\\.libs\\libopenblas.WCDJNK7YVMPZQ2ME2ZZHJJRJ3JIKNDB7.gfortran-win_amd64.dll\n",
      "  stacklevel=1)\n"
     ]
    },
    {
     "output_type": "stream",
     "name": "stdout",
     "text": [
      "(47923, 9)\n",
      "(11981, 9)\n",
      "(47923, 3)\n",
      "(11981, 3)\n"
     ]
    }
   ],
   "metadata": {}
  },
  {
   "cell_type": "code",
   "execution_count": 4,
   "source": [
    "model = Sequential()\r\n",
    "model.add(Embedding(29662, 500, input_length=9))\r\n",
    "model.add(Conv1D(32, kernel_size=5,\r\n",
    "            padding='same', activation='relu'))\r\n",
    "model.add(MaxPool1D(pool_size=1))\r\n",
    "model.add(LSTM(64, activation='tanh',\r\n",
    "               return_sequences=True))\r\n",
    "model.add(Dropout(0.1))\r\n",
    "model.add(LSTM(64, activation='tanh'))\r\n",
    "model.add(Dropout(0.1))\r\n",
    "model.add(Flatten())\r\n",
    "model.add(Dense(128, activation='relu'))\r\n",
    "model.add(Dense(3, activation='softmax'))\r\n",
    "\r\n",
    "print(model.summary())\r\n",
    "#val_acc = 0.55 "
   ],
   "outputs": [
    {
     "output_type": "stream",
     "name": "stdout",
     "text": [
      "Model: \"sequential_1\"\n",
      "_________________________________________________________________\n",
      "Layer (type)                 Output Shape              Param #   \n",
      "=================================================================\n",
      "embedding_1 (Embedding)      (None, 9, 500)            14831000  \n",
      "_________________________________________________________________\n",
      "conv1d_1 (Conv1D)            (None, 9, 32)             80032     \n",
      "_________________________________________________________________\n",
      "max_pooling1d_1 (MaxPooling1 (None, 9, 32)             0         \n",
      "_________________________________________________________________\n",
      "lstm_2 (LSTM)                (None, 9, 64)             24832     \n",
      "_________________________________________________________________\n",
      "dropout_2 (Dropout)          (None, 9, 64)             0         \n",
      "_________________________________________________________________\n",
      "lstm_3 (LSTM)                (None, 64)                33024     \n",
      "_________________________________________________________________\n",
      "dropout_3 (Dropout)          (None, 64)                0         \n",
      "_________________________________________________________________\n",
      "flatten_1 (Flatten)          (None, 64)                0         \n",
      "_________________________________________________________________\n",
      "dense_2 (Dense)              (None, 128)               8320      \n",
      "_________________________________________________________________\n",
      "dense_3 (Dense)              (None, 3)                 387       \n",
      "=================================================================\n",
      "Total params: 14,977,595\n",
      "Trainable params: 14,977,595\n",
      "Non-trainable params: 0\n",
      "_________________________________________________________________\n",
      "None\n"
     ]
    }
   ],
   "metadata": {}
  },
  {
   "cell_type": "code",
   "execution_count": 25,
   "source": [
    "model = Sequential()\r\n",
    "model.add(Embedding(29662, 500, input_length=9))\r\n",
    "model.add(Conv1D(32, kernel_size=5,\r\n",
    "            padding='same', activation='relu'))\r\n",
    "model.add(MaxPool1D(pool_size=1))\r\n",
    "model.add(LSTM(128, activation='tanh',\r\n",
    "               return_sequences=True))\r\n",
    "model.add(Dropout(0.3)) #너무 높이면 또 정확도 떨어짐\r\n",
    "model.add(LSTM(64, activation='tanh',\r\n",
    "               return_sequences=True))\r\n",
    "model.add(Dropout(0.3)) #dropout 낮췄을 때 정확도 떨어짐\r\n",
    "model.add(LSTM(64, activation='tanh'))\r\n",
    "model.add(Dropout(0.3))\r\n",
    "model.add(Flatten())\r\n",
    "model.add(Dense(128, activation='relu'))\r\n",
    "model.add(Dense(3, activation='softmax'))\r\n",
    "\r\n",
    "print(model.summary())\r\n",
    "#val_acc = 0.78"
   ],
   "outputs": [
    {
     "output_type": "stream",
     "name": "stdout",
     "text": [
      "Model: \"sequential_8\"\n",
      "_________________________________________________________________\n",
      "Layer (type)                 Output Shape              Param #   \n",
      "=================================================================\n",
      "embedding_8 (Embedding)      (None, 9, 500)            14831000  \n",
      "_________________________________________________________________\n",
      "conv1d_8 (Conv1D)            (None, 9, 32)             80032     \n",
      "_________________________________________________________________\n",
      "max_pooling1d_8 (MaxPooling1 (None, 9, 32)             0         \n",
      "_________________________________________________________________\n",
      "lstm_23 (LSTM)               (None, 9, 64)             24832     \n",
      "_________________________________________________________________\n",
      "dropout_22 (Dropout)         (None, 9, 64)             0         \n",
      "_________________________________________________________________\n",
      "lstm_24 (LSTM)               (None, 9, 128)            98816     \n",
      "_________________________________________________________________\n",
      "dropout_23 (Dropout)         (None, 9, 128)            0         \n",
      "_________________________________________________________________\n",
      "lstm_25 (LSTM)               (None, 256)               394240    \n",
      "_________________________________________________________________\n",
      "dropout_24 (Dropout)         (None, 256)               0         \n",
      "_________________________________________________________________\n",
      "flatten_7 (Flatten)          (None, 256)               0         \n",
      "_________________________________________________________________\n",
      "dense_14 (Dense)             (None, 128)               32896     \n",
      "_________________________________________________________________\n",
      "dense_15 (Dense)             (None, 3)                 387       \n",
      "=================================================================\n",
      "Total params: 15,462,203\n",
      "Trainable params: 15,462,203\n",
      "Non-trainable params: 0\n",
      "_________________________________________________________________\n",
      "None\n"
     ]
    }
   ],
   "metadata": {}
  },
  {
   "cell_type": "code",
   "execution_count": 30,
   "source": [
    "model = Sequential()\r\n",
    "model.add(Embedding(29662, 500, input_length=9))\r\n",
    "model.add(Dropout(0.3))\r\n",
    "model.add(Conv1D(32, kernel_size=5,\r\n",
    "            padding='same', activation='relu'))\r\n",
    "model.add(MaxPool1D(pool_size=1))\r\n",
    "model.add(LSTM(128, activation='tanh',\r\n",
    "               return_sequences=True))\r\n",
    "model.add(Dropout(0.3)) #dropout 낮췄을 때 정확도 떨어짐\r\n",
    "model.add(Dense(64, activation='relu'))\r\n",
    "model.add(Flatten())\r\n",
    "model.add(Dense(128, activation='relu'))\r\n",
    "model.add(Dense(3, activation='softmax'))\r\n",
    "\r\n",
    "print(model.summary())\r\n",
    "#val_acc = 0.75"
   ],
   "outputs": [
    {
     "output_type": "stream",
     "name": "stdout",
     "text": [
      "Model: \"sequential_10\"\n",
      "_________________________________________________________________\n",
      "Layer (type)                 Output Shape              Param #   \n",
      "=================================================================\n",
      "embedding_10 (Embedding)     (None, 9, 500)            14831000  \n",
      "_________________________________________________________________\n",
      "dropout_28 (Dropout)         (None, 9, 500)            0         \n",
      "_________________________________________________________________\n",
      "conv1d_10 (Conv1D)           (None, 9, 32)             80032     \n",
      "_________________________________________________________________\n",
      "max_pooling1d_10 (MaxPooling (None, 9, 32)             0         \n",
      "_________________________________________________________________\n",
      "lstm_27 (LSTM)               (None, 9, 128)            82432     \n",
      "_________________________________________________________________\n",
      "dropout_29 (Dropout)         (None, 9, 128)            0         \n",
      "_________________________________________________________________\n",
      "dense_19 (Dense)             (None, 9, 64)             8256      \n",
      "_________________________________________________________________\n",
      "flatten_9 (Flatten)          (None, 576)               0         \n",
      "_________________________________________________________________\n",
      "dense_20 (Dense)             (None, 128)               73856     \n",
      "_________________________________________________________________\n",
      "dense_21 (Dense)             (None, 3)                 387       \n",
      "=================================================================\n",
      "Total params: 15,075,963\n",
      "Trainable params: 15,075,963\n",
      "Non-trainable params: 0\n",
      "_________________________________________________________________\n",
      "None\n"
     ]
    }
   ],
   "metadata": {}
  },
  {
   "cell_type": "code",
   "execution_count": 31,
   "source": [
    "from keras.callbacks import EarlyStopping\r\n",
    "early_stopping = EarlyStopping()\r\n",
    "\r\n",
    "model.compile(loss='categorical_crossentropy',\r\n",
    "              optimizer='adam', metrics=['accuracy'])\r\n",
    "fit_hist = model.fit(X_train, Y_train, batch_size=100,\r\n",
    "        epochs=5, validation_data=(X_test, Y_test),\r\n",
    "        callbacks=[early_stopping])\r\n",
    "\r\n",
    "score = model.evaluate(X_test, Y_test)\r\n",
    "print(score[1])\r\n",
    "\r\n",
    "model.save('./model/gender_classfication_{}.h5'.format(score[1]))"
   ],
   "outputs": [
    {
     "output_type": "stream",
     "name": "stdout",
     "text": [
      "Epoch 1/5\n",
      "480/480 [==============================] - 132s 275ms/step - loss: 0.6075 - accuracy: 0.7362 - val_loss: 0.5341 - val_accuracy: 0.7840\n",
      "Epoch 2/5\n",
      "480/480 [==============================] - 122s 253ms/step - loss: 0.3109 - accuracy: 0.8975 - val_loss: 0.6049 - val_accuracy: 0.7502\n",
      "375/375 [==============================] - 1s 4ms/step - loss: 0.6049 - accuracy: 0.7502\n",
      "0.7501878142356873\n"
     ]
    }
   ],
   "metadata": {}
  },
  {
   "cell_type": "code",
   "execution_count": 32,
   "source": [
    "# summarize history for accuracy\r\n",
    "plt.plot(fit_hist.history['accuracy'])\r\n",
    "plt.plot(fit_hist.history['val_accuracy'])\r\n",
    "plt.title('model accuracy')\r\n",
    "plt.ylabel('accuracy')\r\n",
    "plt.xlabel('epoch')\r\n",
    "plt.legend(['train', 'test'], loc='upper left')\r\n",
    "plt.show()"
   ],
   "outputs": [
    {
     "output_type": "display_data",
     "data": {
      "image/png": "[encoded data removed]",
      "text/plain": [
       "<Figure size 432x288 with 1 Axes>"
      ]
     },
     "metadata": {
      "needs_background": "light"
     }
    }
   ],
   "metadata": {}
  },
  {
   "cell_type": "code",
   "execution_count": 33,
   "source": [
    "# summarize history for loss\r\n",
    "plt.plot(fit_hist.history['loss'])\r\n",
    "plt.plot(fit_hist.history['val_loss'])\r\n",
    "plt.title('model loss')\r\n",
    "plt.ylabel('loss')\r\n",
    "plt.xlabel('epoch')\r\n",
    "plt.legend(['train', 'test'], loc='upper left')\r\n",
    "plt.show()"
   ],
   "outputs": [
    {
     "output_type": "display_data",
     "data": {
      "image/png": "[encoded data removed]",
      "text/plain": [
       "<Figure size 432x288 with 1 Axes>"
      ]
     },
     "metadata": {
      "needs_background": "light"
     }
    }
   ],
   "metadata": {}
  }
 ],
 "metadata": {
  "orig_nbformat": 4,
  "language_info": {
   "name": "python",
   "version": "3.7.10",
   "mimetype": "text/x-python",
   "codemirror_mode": {
    "name": "ipython",
    "version": 3
   },
   "pygments_lexer": "ipython3",
   "nbconvert_exporter": "python",
   "file_extension": ".py"
  },
  "kernelspec": {
   "name": "python3",
   "display_name": "Python 3.7.10 64-bit ('exam_cv2': conda)"
  },
  "interpreter": {
   "hash": "19a2027c367e4a8fbf50703f7b521df71edff403eb9eba2200ef5f1febf03a5b"
  }
 },
 "nbformat": 4,
 "nbformat_minor": 2
}